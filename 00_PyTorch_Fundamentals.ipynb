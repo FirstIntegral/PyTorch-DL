{
  "nbformat": 4,
  "nbformat_minor": 0,
  "metadata": {
    "colab": {
      "provenance": [],
      "authorship_tag": "ABX9TyNqxk5jotV7xcJZQ3k2ArlT",
      "include_colab_link": true
    },
    "kernelspec": {
      "name": "python3",
      "display_name": "Python 3"
    },
    "language_info": {
      "name": "python"
    }
  },
  "cells": [
    {
      "cell_type": "markdown",
      "metadata": {
        "id": "view-in-github",
        "colab_type": "text"
      },
      "source": [
        "<a href=\"https://colab.research.google.com/github/FirstIntegral/PyTorch-DL/blob/main/00_PyTorch_Fundamentals.ipynb\" target=\"_parent\"><img src=\"https://colab.research.google.com/assets/colab-badge.svg\" alt=\"Open In Colab\"/></a>"
      ]
    },
    {
      "cell_type": "markdown",
      "source": [
        "### **00 PyTorch fundamentals**\n",
        "\n",
        "Resource notebook: https://www.learnpytorch.io/00_pytorch_fundamentals"
      ],
      "metadata": {
        "id": "-U3GB6uQJACa"
      }
    },
    {
      "cell_type": "code",
      "source": [
        "import torch\n",
        "print(torch.__version__)"
      ],
      "metadata": {
        "colab": {
          "base_uri": "https://localhost:8080/"
        },
        "id": "zGez4CqhDI-0",
        "outputId": "7e8b2dbe-6aa0-44a7-c01f-a562e4ad71fe"
      },
      "execution_count": 1,
      "outputs": [
        {
          "output_type": "stream",
          "name": "stdout",
          "text": [
            "2.1.0+cu121\n"
          ]
        }
      ]
    },
    {
      "cell_type": "markdown",
      "source": [
        "# Introcution to tensors\n",
        "\n",
        "**Creating tensors**:\n",
        "tensors in PyTorch are created using torch.tensor()\n",
        "\n",
        "https://pytorch.org/docs/stable/tensors.html"
      ],
      "metadata": {
        "id": "HTazTuMQE0Ah"
      }
    },
    {
      "cell_type": "code",
      "source": [
        "# scalar\n",
        "scalar = torch.tensor(7)\n",
        "scalar"
      ],
      "metadata": {
        "colab": {
          "base_uri": "https://localhost:8080/"
        },
        "id": "tTLT0kKxE5Ix",
        "outputId": "5bfb3660-7bc5-4000-e746-d0c5279e730b"
      },
      "execution_count": 2,
      "outputs": [
        {
          "output_type": "execute_result",
          "data": {
            "text/plain": [
              "tensor(7)"
            ]
          },
          "metadata": {},
          "execution_count": 2
        }
      ]
    },
    {
      "cell_type": "code",
      "source": [
        "scalar.ndim"
      ],
      "metadata": {
        "colab": {
          "base_uri": "https://localhost:8080/"
        },
        "id": "65x_QFBgGFAU",
        "outputId": "51eb657e-a009-4181-cc47-7f1f2d11018d"
      },
      "execution_count": 3,
      "outputs": [
        {
          "output_type": "execute_result",
          "data": {
            "text/plain": [
              "0"
            ]
          },
          "metadata": {},
          "execution_count": 3
        }
      ]
    },
    {
      "cell_type": "markdown",
      "source": [
        "has no dimensions, it's just a number"
      ],
      "metadata": {
        "id": "ys-QeEDYGk1N"
      }
    },
    {
      "cell_type": "code",
      "source": [
        "# get tensor back as a python int\n",
        "scalar.item()"
      ],
      "metadata": {
        "colab": {
          "base_uri": "https://localhost:8080/"
        },
        "id": "78B7kVYoGo8b",
        "outputId": "4bc60e8f-c713-400e-c546-7cbcdc36dc0c"
      },
      "execution_count": 4,
      "outputs": [
        {
          "output_type": "execute_result",
          "data": {
            "text/plain": [
              "7"
            ]
          },
          "metadata": {},
          "execution_count": 4
        }
      ]
    },
    {
      "cell_type": "code",
      "source": [
        "# vector\n",
        "vector = torch.tensor([1,2])\n",
        "vector"
      ],
      "metadata": {
        "colab": {
          "base_uri": "https://localhost:8080/"
        },
        "id": "LZtHa1K0GvGj",
        "outputId": "ddbb5deb-7b5c-4365-b9d9-384b033d6a8a"
      },
      "execution_count": 5,
      "outputs": [
        {
          "output_type": "execute_result",
          "data": {
            "text/plain": [
              "tensor([1, 2])"
            ]
          },
          "metadata": {},
          "execution_count": 5
        }
      ]
    },
    {
      "cell_type": "code",
      "source": [
        "vector.ndim"
      ],
      "metadata": {
        "colab": {
          "base_uri": "https://localhost:8080/"
        },
        "id": "pJZ31j8cHOiq",
        "outputId": "541e8c57-0587-44ff-8894-375bcd6f696b"
      },
      "execution_count": 6,
      "outputs": [
        {
          "output_type": "execute_result",
          "data": {
            "text/plain": [
              "1"
            ]
          },
          "metadata": {},
          "execution_count": 6
        }
      ]
    },
    {
      "cell_type": "code",
      "source": [
        "vector.shape"
      ],
      "metadata": {
        "colab": {
          "base_uri": "https://localhost:8080/"
        },
        "id": "r4R23XviHgXs",
        "outputId": "6bd11331-16a7-414e-fe07-5e760007c52c"
      },
      "execution_count": 7,
      "outputs": [
        {
          "output_type": "execute_result",
          "data": {
            "text/plain": [
              "torch.Size([2])"
            ]
          },
          "metadata": {},
          "execution_count": 7
        }
      ]
    },
    {
      "cell_type": "code",
      "source": [
        "# MATRIX\n",
        "MATRIX = torch.tensor([[1,2], [3,4]])\n",
        "MATRIX"
      ],
      "metadata": {
        "colab": {
          "base_uri": "https://localhost:8080/"
        },
        "id": "oDjAeM9xHm7z",
        "outputId": "5e6f475e-4077-4294-d3ca-79c887ad0ac0"
      },
      "execution_count": 8,
      "outputs": [
        {
          "output_type": "execute_result",
          "data": {
            "text/plain": [
              "tensor([[1, 2],\n",
              "        [3, 4]])"
            ]
          },
          "metadata": {},
          "execution_count": 8
        }
      ]
    },
    {
      "cell_type": "code",
      "source": [
        "MATRIX.ndim"
      ],
      "metadata": {
        "colab": {
          "base_uri": "https://localhost:8080/"
        },
        "id": "e3y-uIiUHxPq",
        "outputId": "4ab9eab5-35c2-409e-b843-62b0ba580ff9"
      },
      "execution_count": 9,
      "outputs": [
        {
          "output_type": "execute_result",
          "data": {
            "text/plain": [
              "2"
            ]
          },
          "metadata": {},
          "execution_count": 9
        }
      ]
    },
    {
      "cell_type": "code",
      "source": [
        "MATRIX[0]"
      ],
      "metadata": {
        "colab": {
          "base_uri": "https://localhost:8080/"
        },
        "id": "bbEwQyByH4nE",
        "outputId": "7485041a-3463-48f8-8216-cf657f7df69e"
      },
      "execution_count": 10,
      "outputs": [
        {
          "output_type": "execute_result",
          "data": {
            "text/plain": [
              "tensor([1, 2])"
            ]
          },
          "metadata": {},
          "execution_count": 10
        }
      ]
    },
    {
      "cell_type": "code",
      "source": [
        "MATRIX.shape"
      ],
      "metadata": {
        "colab": {
          "base_uri": "https://localhost:8080/"
        },
        "id": "fKqtQUw3p0Cu",
        "outputId": "633554e0-b8e6-4c2d-8ebb-f6d1044b546a"
      },
      "execution_count": 11,
      "outputs": [
        {
          "output_type": "execute_result",
          "data": {
            "text/plain": [
              "torch.Size([2, 2])"
            ]
          },
          "metadata": {},
          "execution_count": 11
        }
      ]
    },
    {
      "cell_type": "code",
      "source": [
        "# TENSOR\n",
        "TENSOR = torch.tensor([[[1,2,3], [4,5,6], [7,8,9]]])\n",
        "TENSOR"
      ],
      "metadata": {
        "colab": {
          "base_uri": "https://localhost:8080/"
        },
        "id": "QFo3mYG6v3Y8",
        "outputId": "975e259c-2ba4-48ca-a8c7-042e5bc21111"
      },
      "execution_count": 12,
      "outputs": [
        {
          "output_type": "execute_result",
          "data": {
            "text/plain": [
              "tensor([[[1, 2, 3],\n",
              "         [4, 5, 6],\n",
              "         [7, 8, 9]]])"
            ]
          },
          "metadata": {},
          "execution_count": 12
        }
      ]
    },
    {
      "cell_type": "code",
      "source": [
        "TENSOR.ndim"
      ],
      "metadata": {
        "colab": {
          "base_uri": "https://localhost:8080/"
        },
        "id": "loQ91s0Bv5QQ",
        "outputId": "9c0ea9de-abc2-4876-b015-37338cb987a9"
      },
      "execution_count": 13,
      "outputs": [
        {
          "output_type": "execute_result",
          "data": {
            "text/plain": [
              "3"
            ]
          },
          "metadata": {},
          "execution_count": 13
        }
      ]
    },
    {
      "cell_type": "code",
      "source": [
        "TENSOR.shape"
      ],
      "metadata": {
        "colab": {
          "base_uri": "https://localhost:8080/"
        },
        "id": "pFI9XzgjwlQ2",
        "outputId": "d21e1516-d3b2-42ff-d0a4-5b4934f2cf7d"
      },
      "execution_count": 14,
      "outputs": [
        {
          "output_type": "execute_result",
          "data": {
            "text/plain": [
              "torch.Size([1, 3, 3])"
            ]
          },
          "metadata": {},
          "execution_count": 14
        }
      ]
    },
    {
      "cell_type": "code",
      "source": [
        "TENSOR[0]"
      ],
      "metadata": {
        "colab": {
          "base_uri": "https://localhost:8080/"
        },
        "id": "n5_c3nGEwyo0",
        "outputId": "67a0e040-173f-43cd-e2ea-1f9f4ddbd21c"
      },
      "execution_count": 15,
      "outputs": [
        {
          "output_type": "execute_result",
          "data": {
            "text/plain": [
              "tensor([[1, 2, 3],\n",
              "        [4, 5, 6],\n",
              "        [7, 8, 9]])"
            ]
          },
          "metadata": {},
          "execution_count": 15
        }
      ]
    },
    {
      "cell_type": "markdown",
      "source": [
        "### **Random tensors**\n",
        "The way neural networks works is they start with tensors full of random numbers and adjust those numbers to better represent the data\n",
        "\n",
        "`start with random numbers ==> look at data ==> update randomn umbers ==> look at data ==> update random numbers`"
      ],
      "metadata": {
        "id": "XyGPRcDU0zos"
      }
    },
    {
      "cell_type": "code",
      "source": [
        "# create a random tensor of size (3, 4)\n",
        "# docs here:https://pytorch.org/docs/stable/generated/torch.rand.html\n",
        "\n",
        "random_tensor = torch.rand(3, 4)\n",
        "random_tensor"
      ],
      "metadata": {
        "colab": {
          "base_uri": "https://localhost:8080/"
        },
        "id": "IYcwQHDG028B",
        "outputId": "81acc8ba-daa3-4586-fe29-dc024179b985"
      },
      "execution_count": 16,
      "outputs": [
        {
          "output_type": "execute_result",
          "data": {
            "text/plain": [
              "tensor([[0.7738, 0.2890, 0.2243, 0.3929],\n",
              "        [0.4661, 0.8824, 0.4357, 0.8424],\n",
              "        [0.4574, 0.3961, 0.8428, 0.3046]])"
            ]
          },
          "metadata": {},
          "execution_count": 16
        }
      ]
    },
    {
      "cell_type": "code",
      "source": [
        "random_tensor.ndim"
      ],
      "metadata": {
        "colab": {
          "base_uri": "https://localhost:8080/"
        },
        "id": "o07I58TN_Ti8",
        "outputId": "4357b2e7-c8e6-4a0e-92fb-7b67a9f5d8e3"
      },
      "execution_count": 17,
      "outputs": [
        {
          "output_type": "execute_result",
          "data": {
            "text/plain": [
              "2"
            ]
          },
          "metadata": {},
          "execution_count": 17
        }
      ]
    },
    {
      "cell_type": "code",
      "source": [
        "# create a random tensor with similar shape to an image tensor\n",
        "random_image_size_tensor = torch.rand(size=(224, 224, 3)) # (height, width, color_channels). color_channels of 3 here correspond to (red, green, blue)\n",
        "random_image_size_tensor"
      ],
      "metadata": {
        "colab": {
          "base_uri": "https://localhost:8080/"
        },
        "id": "4gBL3aoT_Tlv",
        "outputId": "6cba8b85-22bf-4cdc-b023-62e3d4357802"
      },
      "execution_count": 18,
      "outputs": [
        {
          "output_type": "execute_result",
          "data": {
            "text/plain": [
              "tensor([[[0.6976, 0.5687, 0.7782],\n",
              "         [0.8593, 0.8952, 0.7114],\n",
              "         [0.6197, 0.6623, 0.3359],\n",
              "         ...,\n",
              "         [0.5197, 0.7515, 0.7859],\n",
              "         [0.1495, 0.3868, 0.9529],\n",
              "         [0.6235, 0.1868, 0.7868]],\n",
              "\n",
              "        [[0.2909, 0.2127, 0.2600],\n",
              "         [0.0986, 0.4539, 0.3760],\n",
              "         [0.3741, 0.4774, 0.0773],\n",
              "         ...,\n",
              "         [0.4795, 0.3153, 0.0851],\n",
              "         [0.1501, 0.2491, 0.3270],\n",
              "         [0.6380, 0.3596, 0.5132]],\n",
              "\n",
              "        [[0.8736, 0.8519, 0.2044],\n",
              "         [0.2818, 0.4637, 0.1073],\n",
              "         [0.9733, 0.6032, 0.3092],\n",
              "         ...,\n",
              "         [0.5321, 0.1011, 0.4144],\n",
              "         [0.6840, 0.5535, 0.3506],\n",
              "         [0.5585, 0.1590, 0.2136]],\n",
              "\n",
              "        ...,\n",
              "\n",
              "        [[0.7480, 0.2481, 0.7326],\n",
              "         [0.4146, 0.0024, 0.2689],\n",
              "         [0.3046, 0.3557, 0.2393],\n",
              "         ...,\n",
              "         [0.2222, 0.6801, 0.5754],\n",
              "         [0.2981, 0.3165, 0.4379],\n",
              "         [0.5022, 0.9368, 0.8277]],\n",
              "\n",
              "        [[0.5132, 0.5888, 0.3853],\n",
              "         [0.3433, 0.8243, 0.5646],\n",
              "         [0.7236, 0.6550, 0.9411],\n",
              "         ...,\n",
              "         [0.6568, 0.0955, 0.8583],\n",
              "         [0.4137, 0.3882, 0.7134],\n",
              "         [0.0555, 0.2464, 0.7419]],\n",
              "\n",
              "        [[0.3364, 0.8116, 0.9253],\n",
              "         [0.8213, 0.1392, 0.6676],\n",
              "         [0.8630, 0.0940, 0.2378],\n",
              "         ...,\n",
              "         [0.9036, 0.6091, 0.5704],\n",
              "         [0.8031, 0.6101, 0.5200],\n",
              "         [0.0648, 0.1927, 0.3386]]])"
            ]
          },
          "metadata": {},
          "execution_count": 18
        }
      ]
    },
    {
      "cell_type": "code",
      "source": [
        "random_image_size_tensor.shape, random_image_size_tensor.ndim"
      ],
      "metadata": {
        "colab": {
          "base_uri": "https://localhost:8080/"
        },
        "id": "Y_2Isb-g_Tx3",
        "outputId": "9a8c27b2-48e1-49b2-e19d-d22a14dc2f00"
      },
      "execution_count": 19,
      "outputs": [
        {
          "output_type": "execute_result",
          "data": {
            "text/plain": [
              "(torch.Size([224, 224, 3]), 3)"
            ]
          },
          "metadata": {},
          "execution_count": 19
        }
      ]
    },
    {
      "cell_type": "markdown",
      "source": [
        "### **Zeros and ones**"
      ],
      "metadata": {
        "id": "N7abXv-9BYhU"
      }
    },
    {
      "cell_type": "code",
      "source": [
        "# creating a tensor of zeroes\n",
        "zero_tensor = torch.zeros(3, 4)\n",
        "zero_tensor"
      ],
      "metadata": {
        "colab": {
          "base_uri": "https://localhost:8080/"
        },
        "id": "dhvgltee_T2j",
        "outputId": "257535bb-ec25-4515-8533-6cf573652b73"
      },
      "execution_count": 20,
      "outputs": [
        {
          "output_type": "execute_result",
          "data": {
            "text/plain": [
              "tensor([[0., 0., 0., 0.],\n",
              "        [0., 0., 0., 0.],\n",
              "        [0., 0., 0., 0.]])"
            ]
          },
          "metadata": {},
          "execution_count": 20
        }
      ]
    },
    {
      "cell_type": "code",
      "source": [
        "zero_tensor.shape, zero_tensor.ndim"
      ],
      "metadata": {
        "colab": {
          "base_uri": "https://localhost:8080/"
        },
        "id": "TRykGD_jBpoK",
        "outputId": "1559a0a1-f3b5-4441-cde9-a825989db920"
      },
      "execution_count": 21,
      "outputs": [
        {
          "output_type": "execute_result",
          "data": {
            "text/plain": [
              "(torch.Size([3, 4]), 2)"
            ]
          },
          "metadata": {},
          "execution_count": 21
        }
      ]
    },
    {
      "cell_type": "code",
      "source": [
        "# create a tensor of ones\n",
        "ones_tensor = torch.ones(3, 4)\n",
        "ones_tensor"
      ],
      "metadata": {
        "colab": {
          "base_uri": "https://localhost:8080/"
        },
        "id": "zV27iotLBpqG",
        "outputId": "d69f61bc-618d-40c1-87a8-5add1df58da8"
      },
      "execution_count": 22,
      "outputs": [
        {
          "output_type": "execute_result",
          "data": {
            "text/plain": [
              "tensor([[1., 1., 1., 1.],\n",
              "        [1., 1., 1., 1.],\n",
              "        [1., 1., 1., 1.]])"
            ]
          },
          "metadata": {},
          "execution_count": 22
        }
      ]
    },
    {
      "cell_type": "code",
      "source": [
        "ones_tensor.shape, ones_tensor.ndim"
      ],
      "metadata": {
        "colab": {
          "base_uri": "https://localhost:8080/"
        },
        "id": "IhhYgcLQBps6",
        "outputId": "dab03e6d-a310-46b5-89a0-5132313d21a4"
      },
      "execution_count": 23,
      "outputs": [
        {
          "output_type": "execute_result",
          "data": {
            "text/plain": [
              "(torch.Size([3, 4]), 2)"
            ]
          },
          "metadata": {},
          "execution_count": 23
        }
      ]
    },
    {
      "cell_type": "markdown",
      "source": [
        "### **Create a range of tensors and tensors-like**"
      ],
      "metadata": {
        "id": "R8RiO8sZ_unY"
      }
    },
    {
      "cell_type": "code",
      "source": [
        "# using torch.arange()\n",
        "# https://pytorch.org/docs/stable/generated/torch.arange.html\n",
        "\n",
        "one_to_ten = torch.arange(1,11) # similar to torch.arange(start=1, end=11)\n",
        "one_to_ten"
      ],
      "metadata": {
        "id": "33_AV9F3CFpg",
        "colab": {
          "base_uri": "https://localhost:8080/"
        },
        "outputId": "97a39ba5-7203-41bf-c242-9279b4b97834"
      },
      "execution_count": 24,
      "outputs": [
        {
          "output_type": "execute_result",
          "data": {
            "text/plain": [
              "tensor([ 1,  2,  3,  4,  5,  6,  7,  8,  9, 10])"
            ]
          },
          "metadata": {},
          "execution_count": 24
        }
      ]
    },
    {
      "cell_type": "code",
      "source": [
        "# creating tensors-like\n",
        "ten_zeros = torch.zeros_like(one_to_ten)\n",
        "ten_zeros"
      ],
      "metadata": {
        "id": "E1vpFBeKCFrS",
        "colab": {
          "base_uri": "https://localhost:8080/"
        },
        "outputId": "712801b6-108e-480c-872c-07a4d6383d50"
      },
      "execution_count": 25,
      "outputs": [
        {
          "output_type": "execute_result",
          "data": {
            "text/plain": [
              "tensor([0, 0, 0, 0, 0, 0, 0, 0, 0, 0])"
            ]
          },
          "metadata": {},
          "execution_count": 25
        }
      ]
    },
    {
      "cell_type": "markdown",
      "source": [
        "### **Tensor datatypes**"
      ],
      "metadata": {
        "id": "HiO9Xn7SBfT4"
      }
    },
    {
      "cell_type": "code",
      "source": [
        "# float32 tensor\n",
        "float32_tensor = torch.tensor([[1.0,2.0], [3.0,4.0]], dtype=torch.float32)\n",
        "float32_tensor\n",
        "\n",
        "# By default, a dtype of \"None\" will give you a tensor of float16 i.e. `float32_tensor = torch.tensor([[1.0,2.0], [3.0,4.0]], dtype=None)`"
      ],
      "metadata": {
        "id": "LZtTcTbRCFuc",
        "colab": {
          "base_uri": "https://localhost:8080/"
        },
        "outputId": "18c459c0-45d1-4634-d114-5d73a4d3ab72"
      },
      "execution_count": 26,
      "outputs": [
        {
          "output_type": "execute_result",
          "data": {
            "text/plain": [
              "tensor([[1., 2.],\n",
              "        [3., 4.]])"
            ]
          },
          "metadata": {},
          "execution_count": 26
        }
      ]
    },
    {
      "cell_type": "markdown",
      "source": [
        "### In general, you get 3 errors while dealing with PyTprch:\n",
        "\n",
        "\n",
        "\n",
        "1.   different dtypes error\n",
        "2.   different shapes error\n",
        "3.   different device error\n",
        "\n",
        "1,2 are clear. 3 is when ou do computation on two tensors and one of them lives in `device=\"cuda\"` which is on an AMD GPU, and the other tensor lives in CPU.\n",
        "\n"
      ],
      "metadata": {
        "id": "t9kHoIT3EYBd"
      }
    },
    {
      "cell_type": "code",
      "source": [
        "float32_tensor_new = torch.tensor([[5.0,6.0], [7.0,8.0]], dtype=torch.float32, device=None, requires_grad=False)\n",
        "float32_tensor_new"
      ],
      "metadata": {
        "colab": {
          "base_uri": "https://localhost:8080/"
        },
        "id": "Di9xzyEZCB-V",
        "outputId": "8bd90966-200b-499d-c55d-8fd0d7ece8f2"
      },
      "execution_count": 27,
      "outputs": [
        {
          "output_type": "execute_result",
          "data": {
            "text/plain": [
              "tensor([[5., 6.],\n",
              "        [7., 8.]])"
            ]
          },
          "metadata": {},
          "execution_count": 27
        }
      ]
    }
  ]
}