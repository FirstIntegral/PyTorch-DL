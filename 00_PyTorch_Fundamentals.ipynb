{
  "nbformat": 4,
  "nbformat_minor": 0,
  "metadata": {
    "colab": {
      "provenance": [],
      "authorship_tag": "ABX9TyOL13sVJ/wiNGiEEQaStffo",
      "include_colab_link": true
    },
    "kernelspec": {
      "name": "python3",
      "display_name": "Python 3"
    },
    "language_info": {
      "name": "python"
    }
  },
  "cells": [
    {
      "cell_type": "markdown",
      "metadata": {
        "id": "view-in-github",
        "colab_type": "text"
      },
      "source": [
        "<a href=\"https://colab.research.google.com/github/FirstIntegral/PyTorch-DL/blob/main/00_PyTorch_Fundamentals.ipynb\" target=\"_parent\"><img src=\"https://colab.research.google.com/assets/colab-badge.svg\" alt=\"Open In Colab\"/></a>"
      ]
    },
    {
      "cell_type": "markdown",
      "source": [
        "### **00 PyTorch fundamentals**\n",
        "\n",
        "Resource notebook: https://www.learnpytorch.io/00_pytorch_fundamentals"
      ],
      "metadata": {
        "id": "-U3GB6uQJACa"
      }
    },
    {
      "cell_type": "code",
      "source": [
        "import torch\n",
        "print(torch.__version__)"
      ],
      "metadata": {
        "colab": {
          "base_uri": "https://localhost:8080/"
        },
        "id": "zGez4CqhDI-0",
        "outputId": "95544107-86e3-4cff-f4d2-b7af7210d472"
      },
      "execution_count": 1,
      "outputs": [
        {
          "output_type": "stream",
          "name": "stdout",
          "text": [
            "2.1.0+cu121\n"
          ]
        }
      ]
    },
    {
      "cell_type": "markdown",
      "source": [
        "# Introcution to tensors\n",
        "\n",
        "**Creating tensors**:\n",
        "tensors in PyTorch are created using torch.tensor()\n",
        "\n",
        "https://pytorch.org/docs/stable/tensors.html"
      ],
      "metadata": {
        "id": "HTazTuMQE0Ah"
      }
    },
    {
      "cell_type": "code",
      "source": [
        "# scalar\n",
        "scalar = torch.tensor(7)\n",
        "scalar"
      ],
      "metadata": {
        "colab": {
          "base_uri": "https://localhost:8080/"
        },
        "id": "tTLT0kKxE5Ix",
        "outputId": "d53c753a-b006-4700-ecb3-e12084e03a23"
      },
      "execution_count": 2,
      "outputs": [
        {
          "output_type": "execute_result",
          "data": {
            "text/plain": [
              "tensor(7)"
            ]
          },
          "metadata": {},
          "execution_count": 2
        }
      ]
    },
    {
      "cell_type": "code",
      "source": [
        "scalar.ndim"
      ],
      "metadata": {
        "colab": {
          "base_uri": "https://localhost:8080/"
        },
        "id": "65x_QFBgGFAU",
        "outputId": "b3fa5b02-b21a-43f4-9f51-2ea1eba7c988"
      },
      "execution_count": 3,
      "outputs": [
        {
          "output_type": "execute_result",
          "data": {
            "text/plain": [
              "0"
            ]
          },
          "metadata": {},
          "execution_count": 3
        }
      ]
    },
    {
      "cell_type": "markdown",
      "source": [
        "has no dimensions, it's just a number"
      ],
      "metadata": {
        "id": "ys-QeEDYGk1N"
      }
    },
    {
      "cell_type": "code",
      "source": [
        "# get tensor back as a python int\n",
        "scalar.item()"
      ],
      "metadata": {
        "colab": {
          "base_uri": "https://localhost:8080/"
        },
        "id": "78B7kVYoGo8b",
        "outputId": "ffe363a5-fb59-4de7-db5d-b054406db825"
      },
      "execution_count": 4,
      "outputs": [
        {
          "output_type": "execute_result",
          "data": {
            "text/plain": [
              "7"
            ]
          },
          "metadata": {},
          "execution_count": 4
        }
      ]
    },
    {
      "cell_type": "code",
      "source": [
        "# vector\n",
        "vector = torch.tensor([1,2])\n",
        "vector"
      ],
      "metadata": {
        "colab": {
          "base_uri": "https://localhost:8080/"
        },
        "id": "LZtHa1K0GvGj",
        "outputId": "afc444aa-a594-483c-9b5e-667d8456f5c4"
      },
      "execution_count": 5,
      "outputs": [
        {
          "output_type": "execute_result",
          "data": {
            "text/plain": [
              "tensor([1, 2])"
            ]
          },
          "metadata": {},
          "execution_count": 5
        }
      ]
    },
    {
      "cell_type": "code",
      "source": [
        "vector.ndim"
      ],
      "metadata": {
        "colab": {
          "base_uri": "https://localhost:8080/"
        },
        "id": "pJZ31j8cHOiq",
        "outputId": "4e8c6e84-bbd9-4046-9038-1d93faf23128"
      },
      "execution_count": 6,
      "outputs": [
        {
          "output_type": "execute_result",
          "data": {
            "text/plain": [
              "1"
            ]
          },
          "metadata": {},
          "execution_count": 6
        }
      ]
    },
    {
      "cell_type": "code",
      "source": [
        "vector.shape"
      ],
      "metadata": {
        "colab": {
          "base_uri": "https://localhost:8080/"
        },
        "id": "r4R23XviHgXs",
        "outputId": "94fe55d6-ce58-4288-d869-3e29bcda6a5a"
      },
      "execution_count": 7,
      "outputs": [
        {
          "output_type": "execute_result",
          "data": {
            "text/plain": [
              "torch.Size([2])"
            ]
          },
          "metadata": {},
          "execution_count": 7
        }
      ]
    },
    {
      "cell_type": "code",
      "source": [
        "# MATRIX\n",
        "MATRIX = torch.tensor([[1,2], [3,4]])\n",
        "MATRIX"
      ],
      "metadata": {
        "colab": {
          "base_uri": "https://localhost:8080/"
        },
        "id": "oDjAeM9xHm7z",
        "outputId": "c2ee4a06-931c-4c74-cb27-97aa5f1e6b24"
      },
      "execution_count": 8,
      "outputs": [
        {
          "output_type": "execute_result",
          "data": {
            "text/plain": [
              "tensor([[1, 2],\n",
              "        [3, 4]])"
            ]
          },
          "metadata": {},
          "execution_count": 8
        }
      ]
    },
    {
      "cell_type": "code",
      "source": [
        "MATRIX.ndim"
      ],
      "metadata": {
        "colab": {
          "base_uri": "https://localhost:8080/"
        },
        "id": "e3y-uIiUHxPq",
        "outputId": "e3a69edc-4c0c-4cf6-bbe7-2f1d230ee353"
      },
      "execution_count": 9,
      "outputs": [
        {
          "output_type": "execute_result",
          "data": {
            "text/plain": [
              "2"
            ]
          },
          "metadata": {},
          "execution_count": 9
        }
      ]
    },
    {
      "cell_type": "code",
      "source": [
        "MATRIX[0]"
      ],
      "metadata": {
        "colab": {
          "base_uri": "https://localhost:8080/"
        },
        "id": "bbEwQyByH4nE",
        "outputId": "a21943a5-1bb3-4013-db22-ba3771e2741b"
      },
      "execution_count": 10,
      "outputs": [
        {
          "output_type": "execute_result",
          "data": {
            "text/plain": [
              "tensor([1, 2])"
            ]
          },
          "metadata": {},
          "execution_count": 10
        }
      ]
    },
    {
      "cell_type": "code",
      "source": [
        "MATRIX.shape"
      ],
      "metadata": {
        "colab": {
          "base_uri": "https://localhost:8080/"
        },
        "id": "fKqtQUw3p0Cu",
        "outputId": "12d993b9-c5cb-44f3-95f1-654d22efb735"
      },
      "execution_count": 11,
      "outputs": [
        {
          "output_type": "execute_result",
          "data": {
            "text/plain": [
              "torch.Size([2, 2])"
            ]
          },
          "metadata": {},
          "execution_count": 11
        }
      ]
    },
    {
      "cell_type": "code",
      "source": [
        "# TENSOR\n",
        "TENSOR = torch.tensor([[[1,2,3], [4,5,6], [7,8,9]]])\n",
        "TENSOR"
      ],
      "metadata": {
        "colab": {
          "base_uri": "https://localhost:8080/"
        },
        "id": "QFo3mYG6v3Y8",
        "outputId": "4f2b3ecb-1945-49fd-d1ad-1e5a4524c919"
      },
      "execution_count": 12,
      "outputs": [
        {
          "output_type": "execute_result",
          "data": {
            "text/plain": [
              "tensor([[[1, 2, 3],\n",
              "         [4, 5, 6],\n",
              "         [7, 8, 9]]])"
            ]
          },
          "metadata": {},
          "execution_count": 12
        }
      ]
    },
    {
      "cell_type": "code",
      "source": [
        "TENSOR.ndim"
      ],
      "metadata": {
        "colab": {
          "base_uri": "https://localhost:8080/"
        },
        "id": "loQ91s0Bv5QQ",
        "outputId": "de450951-52fb-493b-85a0-379380aa4f44"
      },
      "execution_count": 13,
      "outputs": [
        {
          "output_type": "execute_result",
          "data": {
            "text/plain": [
              "3"
            ]
          },
          "metadata": {},
          "execution_count": 13
        }
      ]
    },
    {
      "cell_type": "code",
      "source": [
        "TENSOR.shape"
      ],
      "metadata": {
        "colab": {
          "base_uri": "https://localhost:8080/"
        },
        "id": "pFI9XzgjwlQ2",
        "outputId": "5adf55a6-6472-4929-b584-b27470d1f22a"
      },
      "execution_count": 14,
      "outputs": [
        {
          "output_type": "execute_result",
          "data": {
            "text/plain": [
              "torch.Size([1, 3, 3])"
            ]
          },
          "metadata": {},
          "execution_count": 14
        }
      ]
    },
    {
      "cell_type": "code",
      "source": [
        "TENSOR[0]"
      ],
      "metadata": {
        "colab": {
          "base_uri": "https://localhost:8080/"
        },
        "id": "n5_c3nGEwyo0",
        "outputId": "81bd09b0-52cf-402f-881c-d7029d362447"
      },
      "execution_count": 15,
      "outputs": [
        {
          "output_type": "execute_result",
          "data": {
            "text/plain": [
              "tensor([[1, 2, 3],\n",
              "        [4, 5, 6],\n",
              "        [7, 8, 9]])"
            ]
          },
          "metadata": {},
          "execution_count": 15
        }
      ]
    },
    {
      "cell_type": "markdown",
      "source": [
        "### **Random tensors**\n",
        "The way neural networks works is they start with tensors full of random numbers and adjust those numbers to better represent the data\n",
        "\n",
        "`start with random numbers ==> look at data ==> update randomn umbers ==> look at data ==> update random numbers`"
      ],
      "metadata": {
        "id": "XyGPRcDU0zos"
      }
    },
    {
      "cell_type": "code",
      "source": [
        "# create a random tensor of size (3, 4)\n",
        "# docs here:https://pytorch.org/docs/stable/generated/torch.rand.html\n",
        "\n",
        "random_tensor = torch.rand(3, 4)\n",
        "random_tensor"
      ],
      "metadata": {
        "colab": {
          "base_uri": "https://localhost:8080/"
        },
        "id": "IYcwQHDG028B",
        "outputId": "94c14b90-d2a5-4439-ef29-fb271b08793a"
      },
      "execution_count": 16,
      "outputs": [
        {
          "output_type": "execute_result",
          "data": {
            "text/plain": [
              "tensor([[0.1853, 0.0340, 0.5203, 0.7011],\n",
              "        [0.8798, 0.4606, 0.8673, 0.4689],\n",
              "        [0.6661, 0.0168, 0.0990, 0.0604]])"
            ]
          },
          "metadata": {},
          "execution_count": 16
        }
      ]
    },
    {
      "cell_type": "code",
      "source": [
        "random_tensor.ndim"
      ],
      "metadata": {
        "colab": {
          "base_uri": "https://localhost:8080/"
        },
        "id": "o07I58TN_Ti8",
        "outputId": "a43b1f6f-c173-4e8b-a913-f77e3a2b43f4"
      },
      "execution_count": 17,
      "outputs": [
        {
          "output_type": "execute_result",
          "data": {
            "text/plain": [
              "2"
            ]
          },
          "metadata": {},
          "execution_count": 17
        }
      ]
    },
    {
      "cell_type": "code",
      "source": [
        "# create a random tensor with similar shape to an image tensor\n",
        "random_image_size_tensor = torch.rand(size=(224, 224, 3)) # (height, width, color_channels). color_channels of 3 here correspond to (red, green, blue)\n",
        "random_image_size_tensor"
      ],
      "metadata": {
        "colab": {
          "base_uri": "https://localhost:8080/"
        },
        "id": "4gBL3aoT_Tlv",
        "outputId": "c6c1ccb7-5f37-4ec5-cfd1-fd9df40b2e82"
      },
      "execution_count": 18,
      "outputs": [
        {
          "output_type": "execute_result",
          "data": {
            "text/plain": [
              "tensor([[[0.1061, 0.2299, 0.5900],\n",
              "         [0.0449, 0.1970, 0.9163],\n",
              "         [0.1195, 0.8436, 0.2808],\n",
              "         ...,\n",
              "         [0.8359, 0.8380, 0.2638],\n",
              "         [0.5620, 0.3918, 0.6172],\n",
              "         [0.7352, 0.2591, 0.4516]],\n",
              "\n",
              "        [[0.9912, 0.1113, 0.4105],\n",
              "         [0.1618, 0.7613, 0.4543],\n",
              "         [0.3093, 0.0261, 0.9806],\n",
              "         ...,\n",
              "         [0.0618, 0.3258, 0.5883],\n",
              "         [0.1468, 0.6192, 0.5019],\n",
              "         [0.1306, 0.8438, 0.5625]],\n",
              "\n",
              "        [[0.9787, 0.6090, 0.9457],\n",
              "         [0.4028, 0.4294, 0.7158],\n",
              "         [0.8669, 0.9390, 0.4641],\n",
              "         ...,\n",
              "         [0.7201, 0.5648, 0.9260],\n",
              "         [0.8915, 0.0733, 0.1787],\n",
              "         [0.1385, 0.7329, 0.0583]],\n",
              "\n",
              "        ...,\n",
              "\n",
              "        [[0.9936, 0.8094, 0.6790],\n",
              "         [0.5537, 0.3769, 0.4308],\n",
              "         [0.6951, 0.2488, 0.8047],\n",
              "         ...,\n",
              "         [0.5130, 0.8432, 0.9329],\n",
              "         [0.7121, 0.2300, 0.6196],\n",
              "         [0.2128, 0.1596, 0.2576]],\n",
              "\n",
              "        [[0.3206, 0.0917, 0.0133],\n",
              "         [0.5739, 0.8856, 0.3172],\n",
              "         [0.6922, 0.1194, 0.5146],\n",
              "         ...,\n",
              "         [0.2279, 0.6431, 0.8467],\n",
              "         [0.9706, 0.2502, 0.7228],\n",
              "         [0.1783, 0.8761, 0.4023]],\n",
              "\n",
              "        [[0.8824, 0.7444, 0.5230],\n",
              "         [0.3034, 0.4529, 0.9301],\n",
              "         [0.4146, 0.1418, 0.4939],\n",
              "         ...,\n",
              "         [0.3626, 0.5090, 0.1870],\n",
              "         [0.8946, 0.7793, 0.9960],\n",
              "         [0.8083, 0.3927, 0.3369]]])"
            ]
          },
          "metadata": {},
          "execution_count": 18
        }
      ]
    },
    {
      "cell_type": "code",
      "source": [
        "random_image_size_tensor.shape, random_image_size_tensor.ndim"
      ],
      "metadata": {
        "colab": {
          "base_uri": "https://localhost:8080/"
        },
        "id": "Y_2Isb-g_Tx3",
        "outputId": "6eb7dc74-ba20-49c4-d3db-648c6d97d698"
      },
      "execution_count": 19,
      "outputs": [
        {
          "output_type": "execute_result",
          "data": {
            "text/plain": [
              "(torch.Size([224, 224, 3]), 3)"
            ]
          },
          "metadata": {},
          "execution_count": 19
        }
      ]
    },
    {
      "cell_type": "markdown",
      "source": [
        "### **Zeros and ones**"
      ],
      "metadata": {
        "id": "N7abXv-9BYhU"
      }
    },
    {
      "cell_type": "code",
      "source": [
        "# creating a tensor of zeroes\n",
        "zero_tensor = torch.zeros(3, 4)\n",
        "zero_tensor"
      ],
      "metadata": {
        "colab": {
          "base_uri": "https://localhost:8080/"
        },
        "id": "dhvgltee_T2j",
        "outputId": "42b3d029-ed18-4ee3-ef43-0f4026e93411"
      },
      "execution_count": 20,
      "outputs": [
        {
          "output_type": "execute_result",
          "data": {
            "text/plain": [
              "tensor([[0., 0., 0., 0.],\n",
              "        [0., 0., 0., 0.],\n",
              "        [0., 0., 0., 0.]])"
            ]
          },
          "metadata": {},
          "execution_count": 20
        }
      ]
    },
    {
      "cell_type": "code",
      "source": [
        "zero_tensor.shape, zero_tensor.ndim"
      ],
      "metadata": {
        "colab": {
          "base_uri": "https://localhost:8080/"
        },
        "id": "TRykGD_jBpoK",
        "outputId": "630414bb-acba-41b8-836c-3a3e31931ad0"
      },
      "execution_count": 21,
      "outputs": [
        {
          "output_type": "execute_result",
          "data": {
            "text/plain": [
              "(torch.Size([3, 4]), 2)"
            ]
          },
          "metadata": {},
          "execution_count": 21
        }
      ]
    },
    {
      "cell_type": "code",
      "source": [
        "# create a tensor of ones\n",
        "ones_tensor = torch.ones(3, 4)\n",
        "ones_tensor"
      ],
      "metadata": {
        "colab": {
          "base_uri": "https://localhost:8080/"
        },
        "id": "zV27iotLBpqG",
        "outputId": "4f024f93-53f9-460f-c8e3-dae362cf4033"
      },
      "execution_count": 22,
      "outputs": [
        {
          "output_type": "execute_result",
          "data": {
            "text/plain": [
              "tensor([[1., 1., 1., 1.],\n",
              "        [1., 1., 1., 1.],\n",
              "        [1., 1., 1., 1.]])"
            ]
          },
          "metadata": {},
          "execution_count": 22
        }
      ]
    },
    {
      "cell_type": "code",
      "source": [
        "ones_tensor.shape, ones_tensor.ndim"
      ],
      "metadata": {
        "colab": {
          "base_uri": "https://localhost:8080/"
        },
        "id": "IhhYgcLQBps6",
        "outputId": "ba867d6e-abc7-448e-ef7b-449f531a5991"
      },
      "execution_count": 23,
      "outputs": [
        {
          "output_type": "execute_result",
          "data": {
            "text/plain": [
              "(torch.Size([3, 4]), 2)"
            ]
          },
          "metadata": {},
          "execution_count": 23
        }
      ]
    },
    {
      "cell_type": "markdown",
      "source": [
        "### **Create a range of tensors and tensors-like**"
      ],
      "metadata": {
        "id": "R8RiO8sZ_unY"
      }
    },
    {
      "cell_type": "code",
      "source": [
        "# using torch.arange()\n",
        "# https://pytorch.org/docs/stable/generated/torch.arange.html\n",
        "\n",
        "one_to_ten = torch.arange(1,11) # similar to torch.arange(start=1, end=11)\n",
        "one_to_ten"
      ],
      "metadata": {
        "id": "33_AV9F3CFpg",
        "colab": {
          "base_uri": "https://localhost:8080/"
        },
        "outputId": "f34f10f6-1187-4841-cfab-826e1a0dc7e5"
      },
      "execution_count": 24,
      "outputs": [
        {
          "output_type": "execute_result",
          "data": {
            "text/plain": [
              "tensor([ 1,  2,  3,  4,  5,  6,  7,  8,  9, 10])"
            ]
          },
          "metadata": {},
          "execution_count": 24
        }
      ]
    },
    {
      "cell_type": "code",
      "source": [
        "# creating tensors-like\n",
        "ten_zeros = torch.zeros_like(one_to_ten)\n",
        "ten_zeros"
      ],
      "metadata": {
        "id": "E1vpFBeKCFrS",
        "colab": {
          "base_uri": "https://localhost:8080/"
        },
        "outputId": "343cbccc-76bd-492c-c8c4-0f72dd73dbc2"
      },
      "execution_count": 25,
      "outputs": [
        {
          "output_type": "execute_result",
          "data": {
            "text/plain": [
              "tensor([0, 0, 0, 0, 0, 0, 0, 0, 0, 0])"
            ]
          },
          "metadata": {},
          "execution_count": 25
        }
      ]
    },
    {
      "cell_type": "markdown",
      "source": [
        "### **Tensor datatypes**"
      ],
      "metadata": {
        "id": "HiO9Xn7SBfT4"
      }
    },
    {
      "cell_type": "code",
      "source": [
        "# float32 tensor\n",
        "float32_tensor = torch.tensor([[1.0,2.0], [3.0,4.0]], dtype=torch.float32)\n",
        "float32_tensor\n",
        "\n",
        "# By default, a dtype of \"None\" will give you a tensor of float16 i.e. `float16_tensor = torch.tensor([[1.0,2.0], [3.0,4.0]], dtype=None)`"
      ],
      "metadata": {
        "id": "LZtTcTbRCFuc",
        "colab": {
          "base_uri": "https://localhost:8080/"
        },
        "outputId": "aa81b64d-39c1-4b47-86b5-8cc671d84392"
      },
      "execution_count": 26,
      "outputs": [
        {
          "output_type": "execute_result",
          "data": {
            "text/plain": [
              "tensor([[1., 2.],\n",
              "        [3., 4.]])"
            ]
          },
          "metadata": {},
          "execution_count": 26
        }
      ]
    },
    {
      "cell_type": "code",
      "source": [
        "# converting types of a tensor\n",
        "float16_tensor = float32_tensor.type(torch.float16)\n",
        "float16_tensor"
      ],
      "metadata": {
        "colab": {
          "base_uri": "https://localhost:8080/"
        },
        "id": "p8YqXuapwnT6",
        "outputId": "2b3f2b1e-2d41-40e5-ef89-e1136a39f420"
      },
      "execution_count": 27,
      "outputs": [
        {
          "output_type": "execute_result",
          "data": {
            "text/plain": [
              "tensor([[1., 2.],\n",
              "        [3., 4.]], dtype=torch.float16)"
            ]
          },
          "metadata": {},
          "execution_count": 27
        }
      ]
    },
    {
      "cell_type": "markdown",
      "source": [
        "### In general, you get 3 errors while dealing with PyTprch:\n",
        "\n",
        "\n",
        "\n",
        "1.   different dtypes error\n",
        "2.   different shapes error\n",
        "3.   different device error\n",
        "\n",
        "1,2 are clear. 3 is when you do computation on two tensors and one of them lives in `device=\"cuda\"` which is on an AMD **GPU**, and the other tensor lives in **CPU**.\n",
        "\n"
      ],
      "metadata": {
        "id": "t9kHoIT3EYBd"
      }
    },
    {
      "cell_type": "code",
      "source": [
        "another_float32_tensor = torch.tensor([[5.0,6.0], [7.0,8.0]], dtype=torch.float32, device=None, requires_grad=False)\n",
        "another_float32_tensor"
      ],
      "metadata": {
        "colab": {
          "base_uri": "https://localhost:8080/"
        },
        "id": "Di9xzyEZCB-V",
        "outputId": "66706520-9624-42d9-c1e7-10acec8bbc3c"
      },
      "execution_count": 28,
      "outputs": [
        {
          "output_type": "execute_result",
          "data": {
            "text/plain": [
              "tensor([[5., 6.],\n",
              "        [7., 8.]])"
            ]
          },
          "metadata": {},
          "execution_count": 28
        }
      ]
    },
    {
      "cell_type": "markdown",
      "source": [
        "### Getting infromation from already made tensors. Such as `dtype`, `shape` and `device`\n",
        "\n",
        "**dtype:** tensor.dtype\n",
        "\n",
        "**shape:** tensor.shape\n",
        "\n",
        "**device:** tensor.device"
      ],
      "metadata": {
        "id": "gQsl7BmIypUr"
      }
    },
    {
      "cell_type": "code",
      "source": [
        "some_tensor = torch.rand(3, 4)\n",
        "some_tensor"
      ],
      "metadata": {
        "colab": {
          "base_uri": "https://localhost:8080/"
        },
        "id": "BvAdwbVOy3Tn",
        "outputId": "3fc89c10-dea2-4ef5-f4ea-3549e03d5521"
      },
      "execution_count": 29,
      "outputs": [
        {
          "output_type": "execute_result",
          "data": {
            "text/plain": [
              "tensor([[0.2543, 0.4237, 0.6113, 0.6377],\n",
              "        [0.6780, 0.7334, 0.9935, 0.4720],\n",
              "        [0.8752, 0.2021, 0.3469, 0.1241]])"
            ]
          },
          "metadata": {},
          "execution_count": 29
        }
      ]
    },
    {
      "cell_type": "code",
      "source": [
        "print(f\"some_tensor has the shape of: {some_tensor.shape}\\n and a dtype of: {some_tensor.dtype}\\n and live on '{some_tensor.device}'\")"
      ],
      "metadata": {
        "colab": {
          "base_uri": "https://localhost:8080/"
        },
        "id": "j_BSh8Qky3Vf",
        "outputId": "de16974b-6c55-47b0-8fea-23e0d29a4c14"
      },
      "execution_count": 30,
      "outputs": [
        {
          "output_type": "stream",
          "name": "stdout",
          "text": [
            "some_tensor has the shape of: torch.Size([3, 4])\n",
            " and a dtype of: torch.float32\n",
            " and live on 'cpu'\n"
          ]
        }
      ]
    },
    {
      "cell_type": "markdown",
      "source": [
        "### **Tensor operations**\n",
        "\n",
        "*   Addition\n",
        "*   Subtraction\n",
        "*   Division\n",
        "*   Multiplication (element-wise)\n",
        "*   Matrix multiplication\n"
      ],
      "metadata": {
        "id": "No5__kVE1e5w"
      }
    },
    {
      "cell_type": "code",
      "source": [
        "# Create a tensor\n",
        "tensor = torch.tensor([1.0, 2.0, 3.0])\n",
        "tensor"
      ],
      "metadata": {
        "colab": {
          "base_uri": "https://localhost:8080/"
        },
        "id": "T5bCxKyRy3XO",
        "outputId": "99351250-fc9f-49e9-834b-a2fd1b585511"
      },
      "execution_count": 31,
      "outputs": [
        {
          "output_type": "execute_result",
          "data": {
            "text/plain": [
              "tensor([1., 2., 3.])"
            ]
          },
          "metadata": {},
          "execution_count": 31
        }
      ]
    },
    {
      "cell_type": "code",
      "source": [
        "# Addition\n",
        "tensor = torch.tensor([1, 2, 3])\n",
        "tensor + 10.0"
      ],
      "metadata": {
        "colab": {
          "base_uri": "https://localhost:8080/"
        },
        "id": "UvvCxhFK2OGT",
        "outputId": "5f8b5678-13d3-48ea-98da-bf643468dcb5"
      },
      "execution_count": 32,
      "outputs": [
        {
          "output_type": "execute_result",
          "data": {
            "text/plain": [
              "tensor([11., 12., 13.])"
            ]
          },
          "metadata": {},
          "execution_count": 32
        }
      ]
    },
    {
      "cell_type": "code",
      "source": [
        "# Subtraction\n",
        "tensor - 10.0"
      ],
      "metadata": {
        "colab": {
          "base_uri": "https://localhost:8080/"
        },
        "id": "-FpY2unE2IsC",
        "outputId": "49ec7d82-d605-4258-e2de-20decc4b92ce"
      },
      "execution_count": 33,
      "outputs": [
        {
          "output_type": "execute_result",
          "data": {
            "text/plain": [
              "tensor([-9., -8., -7.])"
            ]
          },
          "metadata": {},
          "execution_count": 33
        }
      ]
    },
    {
      "cell_type": "code",
      "source": [
        "# Multiplication\n",
        "tensor * 10.0"
      ],
      "metadata": {
        "colab": {
          "base_uri": "https://localhost:8080/"
        },
        "id": "fygpVvTV1-O_",
        "outputId": "33107538-ac78-47c6-a06e-9cc1311331bc"
      },
      "execution_count": 34,
      "outputs": [
        {
          "output_type": "execute_result",
          "data": {
            "text/plain": [
              "tensor([10., 20., 30.])"
            ]
          },
          "metadata": {},
          "execution_count": 34
        }
      ]
    },
    {
      "cell_type": "code",
      "source": [
        "# Division\n",
        "tensor / 10.0"
      ],
      "metadata": {
        "colab": {
          "base_uri": "https://localhost:8080/"
        },
        "id": "WLTtwBjp2BRL",
        "outputId": "aae52a70-c17e-4a52-9c80-290aea7f3d4c"
      },
      "execution_count": 35,
      "outputs": [
        {
          "output_type": "execute_result",
          "data": {
            "text/plain": [
              "tensor([0.1000, 0.2000, 0.3000])"
            ]
          },
          "metadata": {},
          "execution_count": 35
        }
      ]
    },
    {
      "cell_type": "markdown",
      "source": [
        "There are also other ways to do above, using PyTorch built-in functions such as `torch.mul`, `torch.add` but stick to python operations if there's no specific need and it's straight forward. No need for complications and it's easier to read"
      ],
      "metadata": {
        "id": "3ApZlKEV2vcj"
      }
    },
    {
      "cell_type": "code",
      "source": [
        "# Above operations messes up the dtype, converting it back again to torch.float32 so we can use it down below\n",
        "tensor = tensor.type(torch.float32)"
      ],
      "metadata": {
        "id": "fV6rJUYT_IPx"
      },
      "execution_count": 36,
      "outputs": []
    },
    {
      "cell_type": "markdown",
      "source": [
        "### **Matrix multiplication**\n",
        "\n",
        "There are two ways to perform matrix multiplication in neural networks & deep learning:\n",
        "\n",
        "1.   Element-wise\n",
        "2.   Matrix multiplication (dot product) **(the most common)**\n",
        "\n"
      ],
      "metadata": {
        "id": "vhf7zu-p3IG8"
      }
    },
    {
      "cell_type": "code",
      "source": [
        "# 1. Element-wise\n",
        "tensor * tensor\n",
        "tensor.dtype"
      ],
      "metadata": {
        "colab": {
          "base_uri": "https://localhost:8080/"
        },
        "id": "vNBo4rdM2BTS",
        "outputId": "1215cabd-c465-4492-934b-be7a4e788686"
      },
      "execution_count": 37,
      "outputs": [
        {
          "output_type": "execute_result",
          "data": {
            "text/plain": [
              "torch.float32"
            ]
          },
          "metadata": {},
          "execution_count": 37
        }
      ]
    },
    {
      "cell_type": "code",
      "source": [
        "# 2. dot product\n",
        "another_tensor = torch.tensor([4.0, 5.0, 6.0])\n",
        "torch.matmul(tensor, another_tensor)"
      ],
      "metadata": {
        "colab": {
          "base_uri": "https://localhost:8080/"
        },
        "id": "wVH7BXgN2BVC",
        "outputId": "3d1308b7-2296-4884-def0-c13bcf7fc9d5"
      },
      "execution_count": 38,
      "outputs": [
        {
          "output_type": "execute_result",
          "data": {
            "text/plain": [
              "tensor(32.)"
            ]
          },
          "metadata": {},
          "execution_count": 38
        }
      ]
    },
    {
      "cell_type": "markdown",
      "source": [
        "### **Dimensions matter.**\n",
        "You cannot multiply any two matrices of any shape together. For matrix multiplication to be possible, the number of columns in the first matrix must equal the number of rows in the second matrix.\n",
        "\n",
        "*   **Possible:** Matrix A (2x3) and Matrix B (3x2)\n",
        "*   **Not Possible:** Matrix C (4x2) and Matrix D (3x4)\n",
        "\n",
        "\n"
      ],
      "metadata": {
        "id": "drm4Qg2z651_"
      }
    },
    {
      "cell_type": "code",
      "source": [
        "# Possible\n",
        "possible_operation = torch.matmul(torch.rand(2, 3), torch.rand(3, 1))\n",
        "possible_operation"
      ],
      "metadata": {
        "colab": {
          "base_uri": "https://localhost:8080/"
        },
        "id": "xJMZgxSp73G0",
        "outputId": "4807e531-d331-40f8-9d16-ccb595c5b442"
      },
      "execution_count": 39,
      "outputs": [
        {
          "output_type": "execute_result",
          "data": {
            "text/plain": [
              "tensor([[0.8191],\n",
              "        [1.0902]])"
            ]
          },
          "metadata": {},
          "execution_count": 39
        }
      ]
    },
    {
      "cell_type": "code",
      "source": [
        "# Not Possible\n",
        "error_operation = torch.matmul(torch.rand(2, 3), torch.rand(2, 3))\n",
        "error_operation"
      ],
      "metadata": {
        "colab": {
          "base_uri": "https://localhost:8080/",
          "height": 211
        },
        "id": "t1omrsK88W2T",
        "outputId": "9b3e1510-cdaa-46ec-fa58-2b555e4a9081"
      },
      "execution_count": 40,
      "outputs": [
        {
          "output_type": "error",
          "ename": "RuntimeError",
          "evalue": "mat1 and mat2 shapes cannot be multiplied (2x3 and 2x3)",
          "traceback": [
            "\u001b[0;31m---------------------------------------------------------------------------\u001b[0m",
            "\u001b[0;31mRuntimeError\u001b[0m                              Traceback (most recent call last)",
            "\u001b[0;32m<ipython-input-40-69ab74f4c75f>\u001b[0m in \u001b[0;36m<cell line: 2>\u001b[0;34m()\u001b[0m\n\u001b[1;32m      1\u001b[0m \u001b[0;31m# Not Possible\u001b[0m\u001b[0;34m\u001b[0m\u001b[0;34m\u001b[0m\u001b[0m\n\u001b[0;32m----> 2\u001b[0;31m \u001b[0merror_operation\u001b[0m \u001b[0;34m=\u001b[0m \u001b[0mtorch\u001b[0m\u001b[0;34m.\u001b[0m\u001b[0mmatmul\u001b[0m\u001b[0;34m(\u001b[0m\u001b[0mtorch\u001b[0m\u001b[0;34m.\u001b[0m\u001b[0mrand\u001b[0m\u001b[0;34m(\u001b[0m\u001b[0;36m2\u001b[0m\u001b[0;34m,\u001b[0m \u001b[0;36m3\u001b[0m\u001b[0;34m)\u001b[0m\u001b[0;34m,\u001b[0m \u001b[0mtorch\u001b[0m\u001b[0;34m.\u001b[0m\u001b[0mrand\u001b[0m\u001b[0;34m(\u001b[0m\u001b[0;36m2\u001b[0m\u001b[0;34m,\u001b[0m \u001b[0;36m3\u001b[0m\u001b[0;34m)\u001b[0m\u001b[0;34m)\u001b[0m\u001b[0;34m\u001b[0m\u001b[0;34m\u001b[0m\u001b[0m\n\u001b[0m\u001b[1;32m      3\u001b[0m \u001b[0merror_operation\u001b[0m\u001b[0;34m\u001b[0m\u001b[0;34m\u001b[0m\u001b[0m\n",
            "\u001b[0;31mRuntimeError\u001b[0m: mat1 and mat2 shapes cannot be multiplied (2x3 and 2x3)"
          ]
        }
      ]
    },
    {
      "cell_type": "code",
      "source": [
        "# Shapes for matrix multiplication\n",
        "tensor_A = torch.tensor([[1, 2],\n",
        "                         [3, 4],\n",
        "                         [5, 6]])\n",
        "\n",
        "tensor_B = torch.tensor([[7, 8],\n",
        "                         [9, 10],\n",
        "                         [11, 12]])\n",
        "\n",
        "torch.matmul(tensor_A, tensor_B) # could also just use `torch.mm(tensor_A, tensor_B)` mm == matmul == matrix multiplication"
      ],
      "metadata": {
        "colab": {
          "base_uri": "https://localhost:8080/",
          "height": 211
        },
        "id": "BxghVAuajI5y",
        "outputId": "d8e1bae5-2883-4979-e4fc-16bb3b9c0e60"
      },
      "execution_count": 41,
      "outputs": [
        {
          "output_type": "error",
          "ename": "RuntimeError",
          "evalue": "mat1 and mat2 shapes cannot be multiplied (3x2 and 3x2)",
          "traceback": [
            "\u001b[0;31m---------------------------------------------------------------------------\u001b[0m",
            "\u001b[0;31mRuntimeError\u001b[0m                              Traceback (most recent call last)",
            "\u001b[0;32m<ipython-input-41-c6aa8b5cf6ed>\u001b[0m in \u001b[0;36m<cell line: 10>\u001b[0;34m()\u001b[0m\n\u001b[1;32m      8\u001b[0m                          [11, 12]])\n\u001b[1;32m      9\u001b[0m \u001b[0;34m\u001b[0m\u001b[0m\n\u001b[0;32m---> 10\u001b[0;31m \u001b[0mtorch\u001b[0m\u001b[0;34m.\u001b[0m\u001b[0mmatmul\u001b[0m\u001b[0;34m(\u001b[0m\u001b[0mtensor_A\u001b[0m\u001b[0;34m,\u001b[0m \u001b[0mtensor_B\u001b[0m\u001b[0;34m)\u001b[0m \u001b[0;31m# could also just use `torch.mm(tensor_A, tensor_B)` mm == matmul == matrix multiplication\u001b[0m\u001b[0;34m\u001b[0m\u001b[0;34m\u001b[0m\u001b[0m\n\u001b[0m",
            "\u001b[0;31mRuntimeError\u001b[0m: mat1 and mat2 shapes cannot be multiplied (3x2 and 3x2)"
          ]
        }
      ]
    },
    {
      "cell_type": "markdown",
      "source": [
        "doesn't work..... need to fix the shape using a transpose"
      ],
      "metadata": {
        "id": "nRjTOCg8kFkb"
      }
    },
    {
      "cell_type": "code",
      "source": [
        "tensor_A.shape"
      ],
      "metadata": {
        "colab": {
          "base_uri": "https://localhost:8080/"
        },
        "id": "ib0JuKMLkwzV",
        "outputId": "e5674489-99bc-4ca9-86f9-50fa9b1be17b"
      },
      "execution_count": 42,
      "outputs": [
        {
          "output_type": "execute_result",
          "data": {
            "text/plain": [
              "torch.Size([3, 2])"
            ]
          },
          "metadata": {},
          "execution_count": 42
        }
      ]
    },
    {
      "cell_type": "code",
      "source": [
        "tensor_B.shape"
      ],
      "metadata": {
        "colab": {
          "base_uri": "https://localhost:8080/"
        },
        "id": "EVWCzNrekza4",
        "outputId": "7aaadcab-3586-4c2b-87d6-ac93e276198d"
      },
      "execution_count": 43,
      "outputs": [
        {
          "output_type": "execute_result",
          "data": {
            "text/plain": [
              "torch.Size([3, 2])"
            ]
          },
          "metadata": {},
          "execution_count": 43
        }
      ]
    },
    {
      "cell_type": "markdown",
      "source": [
        "transposing tensor_B... to be of shape (2,3)"
      ],
      "metadata": {
        "id": "PIt_qrpuk1V1"
      }
    },
    {
      "cell_type": "code",
      "source": [
        "tensor_B = tensor_B.T\n",
        "torch.mm(tensor_A, tensor_B)"
      ],
      "metadata": {
        "colab": {
          "base_uri": "https://localhost:8080/"
        },
        "id": "C4rWxv7rkI3w",
        "outputId": "5ce047be-4d0a-4e27-8422-6d8c0a7bfd66"
      },
      "execution_count": 44,
      "outputs": [
        {
          "output_type": "execute_result",
          "data": {
            "text/plain": [
              "tensor([[ 23,  29,  35],\n",
              "        [ 53,  67,  81],\n",
              "        [ 83, 105, 127]])"
            ]
          },
          "metadata": {},
          "execution_count": 44
        }
      ]
    },
    {
      "cell_type": "markdown",
      "source": [
        "### **Finding min, max, sum, mean...etc. (tensor aggregations)**"
      ],
      "metadata": {
        "id": "ICwQAOEGlvPn"
      }
    },
    {
      "cell_type": "code",
      "source": [
        "# Create a tensor\n",
        "x = torch.arange(0, 100, 10)\n",
        "x"
      ],
      "metadata": {
        "colab": {
          "base_uri": "https://localhost:8080/"
        },
        "id": "PUMHzaZKl1v1",
        "outputId": "2ac9641d-dd55-40ba-e0be-3008a76f55cb"
      },
      "execution_count": 53,
      "outputs": [
        {
          "output_type": "execute_result",
          "data": {
            "text/plain": [
              "tensor([ 0, 10, 20, 30, 40, 50, 60, 70, 80, 90])"
            ]
          },
          "metadata": {},
          "execution_count": 53
        }
      ]
    },
    {
      "cell_type": "code",
      "source": [
        "# Finding min\n",
        "torch.min(x) # x.min()"
      ],
      "metadata": {
        "colab": {
          "base_uri": "https://localhost:8080/"
        },
        "id": "UQ4Icxa9mjJ8",
        "outputId": "238448c2-f261-41e6-d5a7-794839750721"
      },
      "execution_count": 54,
      "outputs": [
        {
          "output_type": "execute_result",
          "data": {
            "text/plain": [
              "tensor(0)"
            ]
          },
          "metadata": {},
          "execution_count": 54
        }
      ]
    },
    {
      "cell_type": "code",
      "source": [
        "# Finding max\n",
        "torch.max(x) # x.max()"
      ],
      "metadata": {
        "colab": {
          "base_uri": "https://localhost:8080/"
        },
        "id": "Kswj9SItmnnR",
        "outputId": "133106de-7a10-4258-816a-2264777d2aef"
      },
      "execution_count": 55,
      "outputs": [
        {
          "output_type": "execute_result",
          "data": {
            "text/plain": [
              "tensor(90)"
            ]
          },
          "metadata": {},
          "execution_count": 55
        }
      ]
    },
    {
      "cell_type": "code",
      "source": [
        "# Finding mean\n",
        "torch.mean(x)"
      ],
      "metadata": {
        "colab": {
          "base_uri": "https://localhost:8080/",
          "height": 194
        },
        "id": "d2FSKeoMmsbm",
        "outputId": "f7e27a83-ec87-44a9-e7da-b19b827c38e6"
      },
      "execution_count": 57,
      "outputs": [
        {
          "output_type": "error",
          "ename": "RuntimeError",
          "evalue": "mean(): could not infer output dtype. Input dtype must be either a floating point or complex dtype. Got: Long",
          "traceback": [
            "\u001b[0;31m---------------------------------------------------------------------------\u001b[0m",
            "\u001b[0;31mRuntimeError\u001b[0m                              Traceback (most recent call last)",
            "\u001b[0;32m<ipython-input-57-19d075c7e98f>\u001b[0m in \u001b[0;36m<cell line: 2>\u001b[0;34m()\u001b[0m\n\u001b[1;32m      1\u001b[0m \u001b[0;31m# Finding mean\u001b[0m\u001b[0;34m\u001b[0m\u001b[0;34m\u001b[0m\u001b[0m\n\u001b[0;32m----> 2\u001b[0;31m \u001b[0mtorch\u001b[0m\u001b[0;34m.\u001b[0m\u001b[0mmean\u001b[0m\u001b[0;34m(\u001b[0m\u001b[0mx\u001b[0m\u001b[0;34m)\u001b[0m\u001b[0;34m\u001b[0m\u001b[0;34m\u001b[0m\u001b[0m\n\u001b[0m",
            "\u001b[0;31mRuntimeError\u001b[0m: mean(): could not infer output dtype. Input dtype must be either a floating point or complex dtype. Got: Long"
          ]
        }
      ]
    },
    {
      "cell_type": "markdown",
      "source": [
        "torch mean function doesn't work with long (int64) data types..."
      ],
      "metadata": {
        "id": "nzyxsD-TnEzw"
      }
    },
    {
      "cell_type": "code",
      "source": [
        "x = x.type(torch.float32)\n",
        "x\n",
        "# OR just directly do this if oyu don't want to change the original tensor:\n",
        "# torch.mean(x.type(torch.float32))"
      ],
      "metadata": {
        "colab": {
          "base_uri": "https://localhost:8080/"
        },
        "id": "B9RAuV7_nI3k",
        "outputId": "ec3c94b1-b0c7-40de-8ec4-7df645eb8097"
      },
      "execution_count": 63,
      "outputs": [
        {
          "output_type": "execute_result",
          "data": {
            "text/plain": [
              "tensor([ 0., 10., 20., 30., 40., 50., 60., 70., 80., 90.])"
            ]
          },
          "metadata": {},
          "execution_count": 63
        }
      ]
    },
    {
      "cell_type": "code",
      "source": [
        "torch.mean(x)"
      ],
      "metadata": {
        "colab": {
          "base_uri": "https://localhost:8080/"
        },
        "id": "li4-zVwQnSCM",
        "outputId": "6ee6ad24-e74b-4298-ba1f-69901b2d35d1"
      },
      "execution_count": 64,
      "outputs": [
        {
          "output_type": "execute_result",
          "data": {
            "text/plain": [
              "tensor(45.)"
            ]
          },
          "metadata": {},
          "execution_count": 64
        }
      ]
    },
    {
      "cell_type": "code",
      "source": [
        "# Finding sum\n",
        "torch.sum(x)"
      ],
      "metadata": {
        "colab": {
          "base_uri": "https://localhost:8080/"
        },
        "id": "AT808W59oBGX",
        "outputId": "7bc6e483-84ef-42d3-f17b-eb0c74a60d99"
      },
      "execution_count": 65,
      "outputs": [
        {
          "output_type": "execute_result",
          "data": {
            "text/plain": [
              "tensor(450.)"
            ]
          },
          "metadata": {},
          "execution_count": 65
        }
      ]
    }
  ]
}