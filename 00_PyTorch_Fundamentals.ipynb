{
  "nbformat": 4,
  "nbformat_minor": 0,
  "metadata": {
    "colab": {
      "provenance": [],
      "authorship_tag": "ABX9TyP3PmFsR9hYcSKOyKtMX6xi",
      "include_colab_link": true
    },
    "kernelspec": {
      "name": "python3",
      "display_name": "Python 3"
    },
    "language_info": {
      "name": "python"
    }
  },
  "cells": [
    {
      "cell_type": "markdown",
      "metadata": {
        "id": "view-in-github",
        "colab_type": "text"
      },
      "source": [
        "<a href=\"https://colab.research.google.com/github/FirstIntegral/PyTorch-DL/blob/main/00_PyTorch_Fundamentals.ipynb\" target=\"_parent\"><img src=\"https://colab.research.google.com/assets/colab-badge.svg\" alt=\"Open In Colab\"/></a>"
      ]
    },
    {
      "cell_type": "markdown",
      "source": [
        "### **00 PyTorch fundamentals**\n",
        "\n",
        "Resource notebook: https://www.learnpytorch.io/00_pytorch_fundamentals"
      ],
      "metadata": {
        "id": "-U3GB6uQJACa"
      }
    },
    {
      "cell_type": "code",
      "source": [
        "import torch\n",
        "print(torch.__version__)"
      ],
      "metadata": {
        "colab": {
          "base_uri": "https://localhost:8080/"
        },
        "id": "zGez4CqhDI-0",
        "outputId": "9d54d9e3-f4a1-4b99-ebf6-ed516536535a"
      },
      "execution_count": 1,
      "outputs": [
        {
          "output_type": "stream",
          "name": "stdout",
          "text": [
            "2.1.0+cu121\n"
          ]
        }
      ]
    },
    {
      "cell_type": "markdown",
      "source": [
        "# Introcution to tensors\n",
        "\n",
        "**Creating tensors**:\n",
        "tensors in PyTorch are created using torch.tensor()\n",
        "\n",
        "https://pytorch.org/docs/stable/tensors.html"
      ],
      "metadata": {
        "id": "HTazTuMQE0Ah"
      }
    },
    {
      "cell_type": "code",
      "source": [
        "# scalar\n",
        "scalar = torch.tensor(7)\n",
        "scalar"
      ],
      "metadata": {
        "colab": {
          "base_uri": "https://localhost:8080/"
        },
        "id": "tTLT0kKxE5Ix",
        "outputId": "9cde50b6-b9f8-4c77-d1ba-7d83c8439178"
      },
      "execution_count": 2,
      "outputs": [
        {
          "output_type": "execute_result",
          "data": {
            "text/plain": [
              "tensor(7)"
            ]
          },
          "metadata": {},
          "execution_count": 2
        }
      ]
    },
    {
      "cell_type": "code",
      "source": [
        "scalar.ndim"
      ],
      "metadata": {
        "colab": {
          "base_uri": "https://localhost:8080/"
        },
        "id": "65x_QFBgGFAU",
        "outputId": "ac73074c-8c71-45ac-e7ae-7b45b536d987"
      },
      "execution_count": 3,
      "outputs": [
        {
          "output_type": "execute_result",
          "data": {
            "text/plain": [
              "0"
            ]
          },
          "metadata": {},
          "execution_count": 3
        }
      ]
    },
    {
      "cell_type": "markdown",
      "source": [
        "has no dimensions, it's just a number"
      ],
      "metadata": {
        "id": "ys-QeEDYGk1N"
      }
    },
    {
      "cell_type": "code",
      "source": [
        "# get tensor back as a python int\n",
        "scalar.item()"
      ],
      "metadata": {
        "colab": {
          "base_uri": "https://localhost:8080/"
        },
        "id": "78B7kVYoGo8b",
        "outputId": "d796726a-42cf-48bd-abc7-3a41485a8468"
      },
      "execution_count": 4,
      "outputs": [
        {
          "output_type": "execute_result",
          "data": {
            "text/plain": [
              "7"
            ]
          },
          "metadata": {},
          "execution_count": 4
        }
      ]
    },
    {
      "cell_type": "code",
      "source": [
        "# vector\n",
        "vector = torch.tensor([1,2])\n",
        "vector"
      ],
      "metadata": {
        "colab": {
          "base_uri": "https://localhost:8080/"
        },
        "id": "LZtHa1K0GvGj",
        "outputId": "363eed27-b07b-4eec-93c3-db754a0bafdd"
      },
      "execution_count": 5,
      "outputs": [
        {
          "output_type": "execute_result",
          "data": {
            "text/plain": [
              "tensor([1, 2])"
            ]
          },
          "metadata": {},
          "execution_count": 5
        }
      ]
    },
    {
      "cell_type": "code",
      "source": [
        "vector.ndim"
      ],
      "metadata": {
        "colab": {
          "base_uri": "https://localhost:8080/"
        },
        "id": "pJZ31j8cHOiq",
        "outputId": "c1f429bc-4183-4e91-b911-db493c018d62"
      },
      "execution_count": 6,
      "outputs": [
        {
          "output_type": "execute_result",
          "data": {
            "text/plain": [
              "1"
            ]
          },
          "metadata": {},
          "execution_count": 6
        }
      ]
    },
    {
      "cell_type": "code",
      "source": [
        "vector.shape"
      ],
      "metadata": {
        "colab": {
          "base_uri": "https://localhost:8080/"
        },
        "id": "r4R23XviHgXs",
        "outputId": "2f27c51c-5f9f-4947-f100-2d3379682406"
      },
      "execution_count": 7,
      "outputs": [
        {
          "output_type": "execute_result",
          "data": {
            "text/plain": [
              "torch.Size([2])"
            ]
          },
          "metadata": {},
          "execution_count": 7
        }
      ]
    },
    {
      "cell_type": "code",
      "source": [
        "# MATRIX\n",
        "MATRIX = torch.tensor([[1,2], [3,4]])\n",
        "MATRIX"
      ],
      "metadata": {
        "colab": {
          "base_uri": "https://localhost:8080/"
        },
        "id": "oDjAeM9xHm7z",
        "outputId": "69dd5573-b677-42bd-c945-7a61dbbf663e"
      },
      "execution_count": 8,
      "outputs": [
        {
          "output_type": "execute_result",
          "data": {
            "text/plain": [
              "tensor([[1, 2],\n",
              "        [3, 4]])"
            ]
          },
          "metadata": {},
          "execution_count": 8
        }
      ]
    },
    {
      "cell_type": "code",
      "source": [
        "MATRIX.ndim"
      ],
      "metadata": {
        "colab": {
          "base_uri": "https://localhost:8080/"
        },
        "id": "e3y-uIiUHxPq",
        "outputId": "ae97a5b9-c5a4-4a74-f9a0-e650a184a74b"
      },
      "execution_count": 9,
      "outputs": [
        {
          "output_type": "execute_result",
          "data": {
            "text/plain": [
              "2"
            ]
          },
          "metadata": {},
          "execution_count": 9
        }
      ]
    },
    {
      "cell_type": "code",
      "source": [
        "MATRIX[0]"
      ],
      "metadata": {
        "colab": {
          "base_uri": "https://localhost:8080/"
        },
        "id": "bbEwQyByH4nE",
        "outputId": "e0cf75b4-a85f-4f2b-b72b-211b30a3b25d"
      },
      "execution_count": 10,
      "outputs": [
        {
          "output_type": "execute_result",
          "data": {
            "text/plain": [
              "tensor([1, 2])"
            ]
          },
          "metadata": {},
          "execution_count": 10
        }
      ]
    },
    {
      "cell_type": "code",
      "source": [
        "MATRIX.shape"
      ],
      "metadata": {
        "colab": {
          "base_uri": "https://localhost:8080/"
        },
        "id": "fKqtQUw3p0Cu",
        "outputId": "65bcdc19-8a9c-4a32-e47a-1d3647c3948e"
      },
      "execution_count": 11,
      "outputs": [
        {
          "output_type": "execute_result",
          "data": {
            "text/plain": [
              "torch.Size([2, 2])"
            ]
          },
          "metadata": {},
          "execution_count": 11
        }
      ]
    },
    {
      "cell_type": "code",
      "source": [
        "# TENSOR\n",
        "TENSOR = torch.tensor([[[1,2,3], [4,5,6], [7,8,9]]])\n",
        "TENSOR"
      ],
      "metadata": {
        "colab": {
          "base_uri": "https://localhost:8080/"
        },
        "id": "QFo3mYG6v3Y8",
        "outputId": "29dcea79-73ac-4831-e520-3f409303747f"
      },
      "execution_count": 12,
      "outputs": [
        {
          "output_type": "execute_result",
          "data": {
            "text/plain": [
              "tensor([[[1, 2, 3],\n",
              "         [4, 5, 6],\n",
              "         [7, 8, 9]]])"
            ]
          },
          "metadata": {},
          "execution_count": 12
        }
      ]
    },
    {
      "cell_type": "code",
      "source": [
        "TENSOR.ndim"
      ],
      "metadata": {
        "colab": {
          "base_uri": "https://localhost:8080/"
        },
        "id": "loQ91s0Bv5QQ",
        "outputId": "2ce5be1a-becd-498c-a149-ab68529be6e9"
      },
      "execution_count": 13,
      "outputs": [
        {
          "output_type": "execute_result",
          "data": {
            "text/plain": [
              "3"
            ]
          },
          "metadata": {},
          "execution_count": 13
        }
      ]
    },
    {
      "cell_type": "code",
      "source": [
        "TENSOR.shape"
      ],
      "metadata": {
        "colab": {
          "base_uri": "https://localhost:8080/"
        },
        "id": "pFI9XzgjwlQ2",
        "outputId": "f66d2038-ace9-45bf-c3e1-ff15199b267a"
      },
      "execution_count": 14,
      "outputs": [
        {
          "output_type": "execute_result",
          "data": {
            "text/plain": [
              "torch.Size([1, 3, 3])"
            ]
          },
          "metadata": {},
          "execution_count": 14
        }
      ]
    },
    {
      "cell_type": "code",
      "source": [
        "TENSOR[0]"
      ],
      "metadata": {
        "colab": {
          "base_uri": "https://localhost:8080/"
        },
        "id": "n5_c3nGEwyo0",
        "outputId": "2f692f22-fcc0-4a20-dac1-6485317af0e5"
      },
      "execution_count": 15,
      "outputs": [
        {
          "output_type": "execute_result",
          "data": {
            "text/plain": [
              "tensor([[1, 2, 3],\n",
              "        [4, 5, 6],\n",
              "        [7, 8, 9]])"
            ]
          },
          "metadata": {},
          "execution_count": 15
        }
      ]
    },
    {
      "cell_type": "markdown",
      "source": [
        "### **Random tensors**\n",
        "The way neural networks works is they start with tensors full of random numbers and adjust those numbers to better represent the data\n",
        "\n",
        "`start with random numbers ==> look at data ==> update randomn umbers ==> look at data ==> update random numbers`"
      ],
      "metadata": {
        "id": "XyGPRcDU0zos"
      }
    },
    {
      "cell_type": "code",
      "source": [
        "# create a random tensor of size (3, 4)\n",
        "# docs here:https://pytorch.org/docs/stable/generated/torch.rand.html\n",
        "\n",
        "random_tensor = torch.rand(3, 4)\n",
        "random_tensor"
      ],
      "metadata": {
        "colab": {
          "base_uri": "https://localhost:8080/"
        },
        "id": "IYcwQHDG028B",
        "outputId": "8a1392f7-cfe0-4954-b00f-7a1fd60d60ba"
      },
      "execution_count": 16,
      "outputs": [
        {
          "output_type": "execute_result",
          "data": {
            "text/plain": [
              "tensor([[0.6369, 0.8068, 0.5229, 0.0179],\n",
              "        [0.6305, 0.5947, 0.5408, 0.8399],\n",
              "        [0.0476, 0.9387, 0.6946, 0.9100]])"
            ]
          },
          "metadata": {},
          "execution_count": 16
        }
      ]
    },
    {
      "cell_type": "code",
      "source": [
        "random_tensor.ndim"
      ],
      "metadata": {
        "colab": {
          "base_uri": "https://localhost:8080/"
        },
        "id": "o07I58TN_Ti8",
        "outputId": "0289df7d-f139-4fa9-cd6b-a1ddd9099d60"
      },
      "execution_count": 17,
      "outputs": [
        {
          "output_type": "execute_result",
          "data": {
            "text/plain": [
              "2"
            ]
          },
          "metadata": {},
          "execution_count": 17
        }
      ]
    },
    {
      "cell_type": "code",
      "source": [
        "# create a random tensor with similar shape to an image tensor\n",
        "random_image_size_tensor = torch.rand(size=(224, 224, 3)) # (height, width, color_channels). color_channels of 3 here correspond to (red, green, blue)\n",
        "random_image_size_tensor"
      ],
      "metadata": {
        "colab": {
          "base_uri": "https://localhost:8080/"
        },
        "id": "4gBL3aoT_Tlv",
        "outputId": "e9f78f0a-70ec-43e0-f9a0-8ee5803d1d31"
      },
      "execution_count": 18,
      "outputs": [
        {
          "output_type": "execute_result",
          "data": {
            "text/plain": [
              "tensor([[[0.8887, 0.3868, 0.9391],\n",
              "         [0.5141, 0.4156, 0.0173],\n",
              "         [0.6809, 0.6327, 0.6502],\n",
              "         ...,\n",
              "         [0.9707, 0.8880, 0.4160],\n",
              "         [0.1646, 0.6424, 0.6049],\n",
              "         [0.7093, 0.7995, 0.5300]],\n",
              "\n",
              "        [[0.9310, 0.0666, 0.9673],\n",
              "         [0.2566, 0.5342, 0.7239],\n",
              "         [0.2966, 0.1031, 0.3202],\n",
              "         ...,\n",
              "         [0.5191, 0.3279, 0.2305],\n",
              "         [0.9377, 0.0068, 0.6728],\n",
              "         [0.1846, 0.3726, 0.9657]],\n",
              "\n",
              "        [[0.2997, 0.3011, 0.4017],\n",
              "         [0.5156, 0.3210, 0.3799],\n",
              "         [0.2095, 0.4280, 0.7357],\n",
              "         ...,\n",
              "         [0.5246, 0.9302, 0.6063],\n",
              "         [0.9415, 0.0261, 0.9614],\n",
              "         [0.7772, 0.2924, 0.5874]],\n",
              "\n",
              "        ...,\n",
              "\n",
              "        [[0.6291, 0.2182, 0.8021],\n",
              "         [0.3197, 0.7551, 0.3035],\n",
              "         [0.9488, 0.4971, 0.1324],\n",
              "         ...,\n",
              "         [0.4279, 0.7996, 0.4299],\n",
              "         [0.7252, 0.3978, 0.5020],\n",
              "         [0.3924, 0.5233, 0.9735]],\n",
              "\n",
              "        [[0.9852, 0.1202, 0.8650],\n",
              "         [0.7108, 0.9733, 0.0173],\n",
              "         [0.6109, 0.6273, 0.2023],\n",
              "         ...,\n",
              "         [0.5658, 0.5605, 0.6014],\n",
              "         [0.8808, 0.8000, 0.2454],\n",
              "         [0.8488, 0.1645, 0.5874]],\n",
              "\n",
              "        [[0.3000, 0.7751, 0.5710],\n",
              "         [0.5187, 0.8966, 0.2231],\n",
              "         [0.0470, 0.5134, 0.8342],\n",
              "         ...,\n",
              "         [0.0872, 0.1458, 0.5806],\n",
              "         [0.5042, 0.2896, 0.9918],\n",
              "         [0.6269, 0.6463, 0.1383]]])"
            ]
          },
          "metadata": {},
          "execution_count": 18
        }
      ]
    },
    {
      "cell_type": "code",
      "source": [
        "random_image_size_tensor.shape, random_image_size_tensor.ndim"
      ],
      "metadata": {
        "colab": {
          "base_uri": "https://localhost:8080/"
        },
        "id": "Y_2Isb-g_Tx3",
        "outputId": "0522e2fa-a32a-4170-934e-7be892342caf"
      },
      "execution_count": 19,
      "outputs": [
        {
          "output_type": "execute_result",
          "data": {
            "text/plain": [
              "(torch.Size([224, 224, 3]), 3)"
            ]
          },
          "metadata": {},
          "execution_count": 19
        }
      ]
    },
    {
      "cell_type": "markdown",
      "source": [
        "### **Zeros and ones**"
      ],
      "metadata": {
        "id": "N7abXv-9BYhU"
      }
    },
    {
      "cell_type": "code",
      "source": [
        "# creating a tensor of zeroes\n",
        "zero_tensor = torch.zeros(3, 4)\n",
        "zero_tensor"
      ],
      "metadata": {
        "colab": {
          "base_uri": "https://localhost:8080/"
        },
        "id": "dhvgltee_T2j",
        "outputId": "9d4a7fc7-cf20-410b-e732-9fc74cd6dbe3"
      },
      "execution_count": 20,
      "outputs": [
        {
          "output_type": "execute_result",
          "data": {
            "text/plain": [
              "tensor([[0., 0., 0., 0.],\n",
              "        [0., 0., 0., 0.],\n",
              "        [0., 0., 0., 0.]])"
            ]
          },
          "metadata": {},
          "execution_count": 20
        }
      ]
    },
    {
      "cell_type": "code",
      "source": [
        "zero_tensor.shape, zero_tensor.ndim"
      ],
      "metadata": {
        "colab": {
          "base_uri": "https://localhost:8080/"
        },
        "id": "TRykGD_jBpoK",
        "outputId": "f932c796-8917-4749-f16a-b297b81e11ff"
      },
      "execution_count": 21,
      "outputs": [
        {
          "output_type": "execute_result",
          "data": {
            "text/plain": [
              "(torch.Size([3, 4]), 2)"
            ]
          },
          "metadata": {},
          "execution_count": 21
        }
      ]
    },
    {
      "cell_type": "code",
      "source": [
        "# create a tensor of ones\n",
        "ones_tensor = torch.ones(3, 4)\n",
        "ones_tensor"
      ],
      "metadata": {
        "colab": {
          "base_uri": "https://localhost:8080/"
        },
        "id": "zV27iotLBpqG",
        "outputId": "2f673827-80e1-41bc-9e6d-df565b8b8ee5"
      },
      "execution_count": 22,
      "outputs": [
        {
          "output_type": "execute_result",
          "data": {
            "text/plain": [
              "tensor([[1., 1., 1., 1.],\n",
              "        [1., 1., 1., 1.],\n",
              "        [1., 1., 1., 1.]])"
            ]
          },
          "metadata": {},
          "execution_count": 22
        }
      ]
    },
    {
      "cell_type": "code",
      "source": [
        "ones_tensor.shape, ones_tensor.ndim"
      ],
      "metadata": {
        "colab": {
          "base_uri": "https://localhost:8080/"
        },
        "id": "IhhYgcLQBps6",
        "outputId": "266c0166-8ce7-4307-a4a5-c2b19b31f4bd"
      },
      "execution_count": 23,
      "outputs": [
        {
          "output_type": "execute_result",
          "data": {
            "text/plain": [
              "(torch.Size([3, 4]), 2)"
            ]
          },
          "metadata": {},
          "execution_count": 23
        }
      ]
    },
    {
      "cell_type": "markdown",
      "source": [
        "### **Create a range of tensors and tensors-like**"
      ],
      "metadata": {
        "id": "R8RiO8sZ_unY"
      }
    },
    {
      "cell_type": "code",
      "source": [
        "# using torch.arange()\n",
        "# https://pytorch.org/docs/stable/generated/torch.arange.html\n",
        "\n",
        "one_to_ten = torch.arange(1,11) # similar to torch.arange(start=1, end=11)\n",
        "one_to_ten"
      ],
      "metadata": {
        "id": "33_AV9F3CFpg",
        "colab": {
          "base_uri": "https://localhost:8080/"
        },
        "outputId": "bc57578c-24fe-4afc-85a8-bdcf43fd2c21"
      },
      "execution_count": 24,
      "outputs": [
        {
          "output_type": "execute_result",
          "data": {
            "text/plain": [
              "tensor([ 1,  2,  3,  4,  5,  6,  7,  8,  9, 10])"
            ]
          },
          "metadata": {},
          "execution_count": 24
        }
      ]
    },
    {
      "cell_type": "code",
      "source": [
        "# creating tensors-like\n",
        "ten_zeros = torch.zeros_like(one_to_ten)\n",
        "ten_zeros"
      ],
      "metadata": {
        "id": "E1vpFBeKCFrS",
        "colab": {
          "base_uri": "https://localhost:8080/"
        },
        "outputId": "21440f00-6d35-48cf-aacc-0a86788a2573"
      },
      "execution_count": 25,
      "outputs": [
        {
          "output_type": "execute_result",
          "data": {
            "text/plain": [
              "tensor([0, 0, 0, 0, 0, 0, 0, 0, 0, 0])"
            ]
          },
          "metadata": {},
          "execution_count": 25
        }
      ]
    },
    {
      "cell_type": "markdown",
      "source": [
        "### **Tensor datatypes**"
      ],
      "metadata": {
        "id": "HiO9Xn7SBfT4"
      }
    },
    {
      "cell_type": "code",
      "source": [
        "# float32 tensor\n",
        "float32_tensor = torch.tensor([[1.0,2.0], [3.0,4.0]], dtype=torch.float32)\n",
        "float32_tensor\n",
        "\n",
        "# By default, a dtype of \"None\" will give you a tensor of float16 i.e. `float16_tensor = torch.tensor([[1.0,2.0], [3.0,4.0]], dtype=None)`"
      ],
      "metadata": {
        "id": "LZtTcTbRCFuc",
        "colab": {
          "base_uri": "https://localhost:8080/"
        },
        "outputId": "f8916ed8-9544-4208-c371-2c1d8ecc1e5c"
      },
      "execution_count": 26,
      "outputs": [
        {
          "output_type": "execute_result",
          "data": {
            "text/plain": [
              "tensor([[1., 2.],\n",
              "        [3., 4.]])"
            ]
          },
          "metadata": {},
          "execution_count": 26
        }
      ]
    },
    {
      "cell_type": "code",
      "source": [
        "# converting types of a tensor\n",
        "float16_tensor = float32_tensor.type(torch.float16)\n",
        "float16_tensor"
      ],
      "metadata": {
        "colab": {
          "base_uri": "https://localhost:8080/"
        },
        "id": "p8YqXuapwnT6",
        "outputId": "1187b536-5f91-49fc-dad9-1951eebe5ca8"
      },
      "execution_count": 27,
      "outputs": [
        {
          "output_type": "execute_result",
          "data": {
            "text/plain": [
              "tensor([[1., 2.],\n",
              "        [3., 4.]], dtype=torch.float16)"
            ]
          },
          "metadata": {},
          "execution_count": 27
        }
      ]
    },
    {
      "cell_type": "markdown",
      "source": [
        "### In general, you get 3 errors while dealing with PyTprch:\n",
        "\n",
        "\n",
        "\n",
        "1.   different dtypes error\n",
        "2.   different shapes error\n",
        "3.   different device error\n",
        "\n",
        "1,2 are clear. 3 is when you do computation on two tensors and one of them lives in `device=\"cuda\"` which is on an AMD **GPU**, and the other tensor lives in **CPU**.\n",
        "\n"
      ],
      "metadata": {
        "id": "t9kHoIT3EYBd"
      }
    },
    {
      "cell_type": "code",
      "source": [
        "another_float32_tensor = torch.tensor([[5.0,6.0], [7.0,8.0]], dtype=torch.float32, device=None, requires_grad=False)\n",
        "another_float32_tensor"
      ],
      "metadata": {
        "colab": {
          "base_uri": "https://localhost:8080/"
        },
        "id": "Di9xzyEZCB-V",
        "outputId": "adbbcce1-d414-4217-e714-236e01206a95"
      },
      "execution_count": 28,
      "outputs": [
        {
          "output_type": "execute_result",
          "data": {
            "text/plain": [
              "tensor([[5., 6.],\n",
              "        [7., 8.]])"
            ]
          },
          "metadata": {},
          "execution_count": 28
        }
      ]
    },
    {
      "cell_type": "markdown",
      "source": [
        "### Getting infromation from already made tensors. Such as `dtype`, `shape` and `device`\n",
        "\n",
        "**dtype:** tensor.dtype\n",
        "\n",
        "**shape:** tensor.shape\n",
        "\n",
        "**device:** tensor.device"
      ],
      "metadata": {
        "id": "gQsl7BmIypUr"
      }
    },
    {
      "cell_type": "code",
      "source": [
        "some_tensor = torch.rand(3, 4)\n",
        "some_tensor"
      ],
      "metadata": {
        "colab": {
          "base_uri": "https://localhost:8080/"
        },
        "id": "BvAdwbVOy3Tn",
        "outputId": "7232d0a9-2fd3-43a9-aaed-1c3f5da80950"
      },
      "execution_count": 29,
      "outputs": [
        {
          "output_type": "execute_result",
          "data": {
            "text/plain": [
              "tensor([[0.6113, 0.7421, 0.6256, 0.3927],\n",
              "        [0.3098, 0.2628, 0.7040, 0.2653],\n",
              "        [0.0405, 0.6341, 0.0911, 0.3503]])"
            ]
          },
          "metadata": {},
          "execution_count": 29
        }
      ]
    },
    {
      "cell_type": "code",
      "source": [
        "print(f\"some_tensor has the shape of: {some_tensor.shape}\\n and a dtype of: {some_tensor.dtype}\\n and live on '{some_tensor.device}'\")"
      ],
      "metadata": {
        "colab": {
          "base_uri": "https://localhost:8080/"
        },
        "id": "j_BSh8Qky3Vf",
        "outputId": "2a8021fe-b272-4c44-8fd1-285eac8466af"
      },
      "execution_count": 30,
      "outputs": [
        {
          "output_type": "stream",
          "name": "stdout",
          "text": [
            "some_tensor has the shape of: torch.Size([3, 4])\n",
            " and a dtype of: torch.float32\n",
            " and live on 'cpu'\n"
          ]
        }
      ]
    },
    {
      "cell_type": "markdown",
      "source": [
        "### **Tensor operations**\n",
        "\n",
        "*   Addition\n",
        "*   Subtraction\n",
        "*   Division\n",
        "*   Multiplication (element-wise)\n",
        "*   Matrix multiplication\n"
      ],
      "metadata": {
        "id": "No5__kVE1e5w"
      }
    },
    {
      "cell_type": "code",
      "source": [
        "# Create a tensor\n",
        "tensor = torch.tensor([1.0, 2.0, 3.0])\n",
        "tensor"
      ],
      "metadata": {
        "colab": {
          "base_uri": "https://localhost:8080/"
        },
        "id": "T5bCxKyRy3XO",
        "outputId": "7c468413-dc19-47fc-bfd7-b8f998939519"
      },
      "execution_count": 31,
      "outputs": [
        {
          "output_type": "execute_result",
          "data": {
            "text/plain": [
              "tensor([1., 2., 3.])"
            ]
          },
          "metadata": {},
          "execution_count": 31
        }
      ]
    },
    {
      "cell_type": "code",
      "source": [
        "# Addition\n",
        "tensor = torch.tensor([1, 2, 3])\n",
        "tensor + 10.0"
      ],
      "metadata": {
        "colab": {
          "base_uri": "https://localhost:8080/"
        },
        "id": "UvvCxhFK2OGT",
        "outputId": "361f8d32-288a-4280-ac64-f0e50ac9f757"
      },
      "execution_count": 32,
      "outputs": [
        {
          "output_type": "execute_result",
          "data": {
            "text/plain": [
              "tensor([11., 12., 13.])"
            ]
          },
          "metadata": {},
          "execution_count": 32
        }
      ]
    },
    {
      "cell_type": "code",
      "source": [
        "# Subtraction\n",
        "tensor - 10.0"
      ],
      "metadata": {
        "colab": {
          "base_uri": "https://localhost:8080/"
        },
        "id": "-FpY2unE2IsC",
        "outputId": "ed66ee90-c115-4b85-e842-179678aaf4d2"
      },
      "execution_count": 33,
      "outputs": [
        {
          "output_type": "execute_result",
          "data": {
            "text/plain": [
              "tensor([-9., -8., -7.])"
            ]
          },
          "metadata": {},
          "execution_count": 33
        }
      ]
    },
    {
      "cell_type": "code",
      "source": [
        "# Multiplication\n",
        "tensor * 10.0"
      ],
      "metadata": {
        "colab": {
          "base_uri": "https://localhost:8080/"
        },
        "id": "fygpVvTV1-O_",
        "outputId": "e0b369ac-654f-432a-e7a2-6d09829bf6b4"
      },
      "execution_count": 34,
      "outputs": [
        {
          "output_type": "execute_result",
          "data": {
            "text/plain": [
              "tensor([10., 20., 30.])"
            ]
          },
          "metadata": {},
          "execution_count": 34
        }
      ]
    },
    {
      "cell_type": "code",
      "source": [
        "# Division\n",
        "tensor / 10.0"
      ],
      "metadata": {
        "colab": {
          "base_uri": "https://localhost:8080/"
        },
        "id": "WLTtwBjp2BRL",
        "outputId": "d8f8996b-d6b5-4aac-d9fa-88878ba5ca4a"
      },
      "execution_count": 35,
      "outputs": [
        {
          "output_type": "execute_result",
          "data": {
            "text/plain": [
              "tensor([0.1000, 0.2000, 0.3000])"
            ]
          },
          "metadata": {},
          "execution_count": 35
        }
      ]
    },
    {
      "cell_type": "markdown",
      "source": [
        "There are also other ways to do above, using PyTorch built-in functions such as `torch.mul`, `torch.add` but stick to python operations if there's no specific need and it's straight forward. No need for complications and it's easier to read"
      ],
      "metadata": {
        "id": "3ApZlKEV2vcj"
      }
    },
    {
      "cell_type": "code",
      "source": [
        "# Above operations messes up the dtype, converting it back again to torch.float32 so we can use it down below\n",
        "tensor = tensor.type(torch.float32)"
      ],
      "metadata": {
        "id": "fV6rJUYT_IPx"
      },
      "execution_count": 36,
      "outputs": []
    },
    {
      "cell_type": "markdown",
      "source": [
        "### **Matrix multiplication**\n",
        "\n",
        "There are two ways to perform matrix multiplication in neural networks & deep learning:\n",
        "\n",
        "1.   Element-wise\n",
        "2.   Matrix multiplication (dot product) **(the most common)**\n",
        "\n"
      ],
      "metadata": {
        "id": "vhf7zu-p3IG8"
      }
    },
    {
      "cell_type": "code",
      "source": [
        "# 1. Element-wise\n",
        "tensor * tensor\n",
        "tensor.dtype"
      ],
      "metadata": {
        "colab": {
          "base_uri": "https://localhost:8080/"
        },
        "id": "vNBo4rdM2BTS",
        "outputId": "ec83b1a3-3710-44bd-e81d-4100603fce0e"
      },
      "execution_count": 37,
      "outputs": [
        {
          "output_type": "execute_result",
          "data": {
            "text/plain": [
              "torch.float32"
            ]
          },
          "metadata": {},
          "execution_count": 37
        }
      ]
    },
    {
      "cell_type": "code",
      "source": [
        "# 2. dot product\n",
        "another_tensor = torch.tensor([4.0, 5.0, 6.0])\n",
        "torch.matmul(tensor, another_tensor)"
      ],
      "metadata": {
        "colab": {
          "base_uri": "https://localhost:8080/"
        },
        "id": "wVH7BXgN2BVC",
        "outputId": "4d55a7f1-ae7e-4c70-bbc6-14865c07538c"
      },
      "execution_count": 38,
      "outputs": [
        {
          "output_type": "execute_result",
          "data": {
            "text/plain": [
              "tensor(32.)"
            ]
          },
          "metadata": {},
          "execution_count": 38
        }
      ]
    },
    {
      "cell_type": "markdown",
      "source": [
        "### **Dimensions matter.**\n",
        "You cannot multiply any two matrices of any shape together. For matrix multiplication to be possible, the number of columns in the first matrix must equal the number of rows in the second matrix.\n",
        "\n",
        "*   **Possible:** Matrix A (2x3) and Matrix B (3x2)\n",
        "*   **Not Possible:** Matrix C (4x2) and Matrix D (3x4)\n",
        "\n",
        "\n"
      ],
      "metadata": {
        "id": "drm4Qg2z651_"
      }
    },
    {
      "cell_type": "code",
      "source": [
        "# Possible\n",
        "possible_operation = torch.matmul(torch.rand(2, 3), torch.rand(3, 1))\n",
        "possible_operation"
      ],
      "metadata": {
        "colab": {
          "base_uri": "https://localhost:8080/"
        },
        "id": "xJMZgxSp73G0",
        "outputId": "342caf9d-fe67-4f54-bb6a-1006aa5f81ec"
      },
      "execution_count": 39,
      "outputs": [
        {
          "output_type": "execute_result",
          "data": {
            "text/plain": [
              "tensor([[0.7638],\n",
              "        [0.8836]])"
            ]
          },
          "metadata": {},
          "execution_count": 39
        }
      ]
    },
    {
      "cell_type": "code",
      "source": [
        "# Not Possible\n",
        "error_operation = torch.matmul(torch.rand(2, 3), torch.rand(2, 3))\n",
        "error_operation"
      ],
      "metadata": {
        "colab": {
          "base_uri": "https://localhost:8080/",
          "height": 211
        },
        "id": "t1omrsK88W2T",
        "outputId": "f2a1e9ae-3305-4b43-cfdd-81f05591e919"
      },
      "execution_count": 40,
      "outputs": [
        {
          "output_type": "error",
          "ename": "RuntimeError",
          "evalue": "mat1 and mat2 shapes cannot be multiplied (2x3 and 2x3)",
          "traceback": [
            "\u001b[0;31m---------------------------------------------------------------------------\u001b[0m",
            "\u001b[0;31mRuntimeError\u001b[0m                              Traceback (most recent call last)",
            "\u001b[0;32m<ipython-input-40-69ab74f4c75f>\u001b[0m in \u001b[0;36m<cell line: 2>\u001b[0;34m()\u001b[0m\n\u001b[1;32m      1\u001b[0m \u001b[0;31m# Not Possible\u001b[0m\u001b[0;34m\u001b[0m\u001b[0;34m\u001b[0m\u001b[0m\n\u001b[0;32m----> 2\u001b[0;31m \u001b[0merror_operation\u001b[0m \u001b[0;34m=\u001b[0m \u001b[0mtorch\u001b[0m\u001b[0;34m.\u001b[0m\u001b[0mmatmul\u001b[0m\u001b[0;34m(\u001b[0m\u001b[0mtorch\u001b[0m\u001b[0;34m.\u001b[0m\u001b[0mrand\u001b[0m\u001b[0;34m(\u001b[0m\u001b[0;36m2\u001b[0m\u001b[0;34m,\u001b[0m \u001b[0;36m3\u001b[0m\u001b[0;34m)\u001b[0m\u001b[0;34m,\u001b[0m \u001b[0mtorch\u001b[0m\u001b[0;34m.\u001b[0m\u001b[0mrand\u001b[0m\u001b[0;34m(\u001b[0m\u001b[0;36m2\u001b[0m\u001b[0;34m,\u001b[0m \u001b[0;36m3\u001b[0m\u001b[0;34m)\u001b[0m\u001b[0;34m)\u001b[0m\u001b[0;34m\u001b[0m\u001b[0;34m\u001b[0m\u001b[0m\n\u001b[0m\u001b[1;32m      3\u001b[0m \u001b[0merror_operation\u001b[0m\u001b[0;34m\u001b[0m\u001b[0;34m\u001b[0m\u001b[0m\n",
            "\u001b[0;31mRuntimeError\u001b[0m: mat1 and mat2 shapes cannot be multiplied (2x3 and 2x3)"
          ]
        }
      ]
    }
  ]
}