{
  "nbformat": 4,
  "nbformat_minor": 0,
  "metadata": {
    "colab": {
      "provenance": [],
      "authorship_tag": "ABX9TyMghDkqmwMJYsU8zkgLQukt",
      "include_colab_link": true
    },
    "kernelspec": {
      "name": "python3",
      "display_name": "Python 3"
    },
    "language_info": {
      "name": "python"
    }
  },
  "cells": [
    {
      "cell_type": "markdown",
      "metadata": {
        "id": "view-in-github",
        "colab_type": "text"
      },
      "source": [
        "<a href=\"https://colab.research.google.com/github/FirstIntegral/PyTorch-DL/blob/main/00_PyTorch_Fundamentals.ipynb\" target=\"_parent\"><img src=\"https://colab.research.google.com/assets/colab-badge.svg\" alt=\"Open In Colab\"/></a>"
      ]
    },
    {
      "cell_type": "markdown",
      "source": [
        "# 00 PyTorch fundamentals\n",
        "\n",
        "Resource notebook: https://www.learnpytorch.io/00_pytorch_fundamentals"
      ],
      "metadata": {
        "id": "-U3GB6uQJACa"
      }
    },
    {
      "cell_type": "code",
      "source": [
        "import torch\n",
        "print(torch.__version__)"
      ],
      "metadata": {
        "colab": {
          "base_uri": "https://localhost:8080/"
        },
        "id": "zGez4CqhDI-0",
        "outputId": "5e429ba2-2fbb-4d79-fef3-3b4ac7d12048"
      },
      "execution_count": 61,
      "outputs": [
        {
          "output_type": "stream",
          "name": "stdout",
          "text": [
            "2.1.0+cu121\n"
          ]
        }
      ]
    },
    {
      "cell_type": "markdown",
      "source": [
        "# Introcution to tensors\n",
        "\n",
        "**Creating tensors**:\n",
        "tensors in PyTorch are created using torch.tensor()\n",
        "\n",
        "https://pytorch.org/docs/stable/tensors.html"
      ],
      "metadata": {
        "id": "HTazTuMQE0Ah"
      }
    },
    {
      "cell_type": "code",
      "source": [
        "# scalar\n",
        "scalar = torch.tensor(7)\n",
        "scalar"
      ],
      "metadata": {
        "colab": {
          "base_uri": "https://localhost:8080/"
        },
        "id": "tTLT0kKxE5Ix",
        "outputId": "c301da71-9d8a-4c36-9129-dee33047aa5b"
      },
      "execution_count": 62,
      "outputs": [
        {
          "output_type": "execute_result",
          "data": {
            "text/plain": [
              "tensor(7)"
            ]
          },
          "metadata": {},
          "execution_count": 62
        }
      ]
    },
    {
      "cell_type": "code",
      "source": [
        "scalar.ndim"
      ],
      "metadata": {
        "colab": {
          "base_uri": "https://localhost:8080/"
        },
        "id": "65x_QFBgGFAU",
        "outputId": "fdafb396-fb91-4ba4-d82e-e005b29a76c3"
      },
      "execution_count": 63,
      "outputs": [
        {
          "output_type": "execute_result",
          "data": {
            "text/plain": [
              "0"
            ]
          },
          "metadata": {},
          "execution_count": 63
        }
      ]
    },
    {
      "cell_type": "markdown",
      "source": [
        "has no dimensions, it's just a number"
      ],
      "metadata": {
        "id": "ys-QeEDYGk1N"
      }
    },
    {
      "cell_type": "code",
      "source": [
        "# get tensor back as a python int\n",
        "scalar.item()"
      ],
      "metadata": {
        "colab": {
          "base_uri": "https://localhost:8080/"
        },
        "id": "78B7kVYoGo8b",
        "outputId": "aeaabb92-9a6e-4762-97c7-e342943b30ef"
      },
      "execution_count": 64,
      "outputs": [
        {
          "output_type": "execute_result",
          "data": {
            "text/plain": [
              "7"
            ]
          },
          "metadata": {},
          "execution_count": 64
        }
      ]
    },
    {
      "cell_type": "code",
      "source": [
        "# vector\n",
        "vector = torch.tensor([1,2])\n",
        "vector"
      ],
      "metadata": {
        "colab": {
          "base_uri": "https://localhost:8080/"
        },
        "id": "LZtHa1K0GvGj",
        "outputId": "e1d72899-c2b5-4bf3-9597-18b52dece724"
      },
      "execution_count": 65,
      "outputs": [
        {
          "output_type": "execute_result",
          "data": {
            "text/plain": [
              "tensor([1, 2])"
            ]
          },
          "metadata": {},
          "execution_count": 65
        }
      ]
    },
    {
      "cell_type": "code",
      "source": [
        "vector.ndim"
      ],
      "metadata": {
        "colab": {
          "base_uri": "https://localhost:8080/"
        },
        "id": "pJZ31j8cHOiq",
        "outputId": "4a09e91a-37dc-4383-c24f-814a9faca6b0"
      },
      "execution_count": 66,
      "outputs": [
        {
          "output_type": "execute_result",
          "data": {
            "text/plain": [
              "1"
            ]
          },
          "metadata": {},
          "execution_count": 66
        }
      ]
    },
    {
      "cell_type": "code",
      "source": [
        "vector.shape"
      ],
      "metadata": {
        "colab": {
          "base_uri": "https://localhost:8080/"
        },
        "id": "r4R23XviHgXs",
        "outputId": "4773766c-9c08-48dd-9ccf-e9c36a657639"
      },
      "execution_count": 67,
      "outputs": [
        {
          "output_type": "execute_result",
          "data": {
            "text/plain": [
              "torch.Size([2])"
            ]
          },
          "metadata": {},
          "execution_count": 67
        }
      ]
    },
    {
      "cell_type": "code",
      "source": [
        "# MATRIX\n",
        "MATRIX = torch.tensor([[1,2], [3,4]])\n",
        "MATRIX"
      ],
      "metadata": {
        "colab": {
          "base_uri": "https://localhost:8080/"
        },
        "id": "oDjAeM9xHm7z",
        "outputId": "3ac0dee9-8e28-40ee-cade-8a144ec69d3c"
      },
      "execution_count": 68,
      "outputs": [
        {
          "output_type": "execute_result",
          "data": {
            "text/plain": [
              "tensor([[1, 2],\n",
              "        [3, 4]])"
            ]
          },
          "metadata": {},
          "execution_count": 68
        }
      ]
    },
    {
      "cell_type": "code",
      "source": [
        "MATRIX.ndim"
      ],
      "metadata": {
        "colab": {
          "base_uri": "https://localhost:8080/"
        },
        "id": "e3y-uIiUHxPq",
        "outputId": "249a3915-9ceb-498f-a5bf-30acb48ab6ff"
      },
      "execution_count": 69,
      "outputs": [
        {
          "output_type": "execute_result",
          "data": {
            "text/plain": [
              "2"
            ]
          },
          "metadata": {},
          "execution_count": 69
        }
      ]
    },
    {
      "cell_type": "code",
      "source": [
        "MATRIX[0]"
      ],
      "metadata": {
        "colab": {
          "base_uri": "https://localhost:8080/"
        },
        "id": "bbEwQyByH4nE",
        "outputId": "8aca63fb-2686-462e-e7bd-00807f7cbac4"
      },
      "execution_count": 70,
      "outputs": [
        {
          "output_type": "execute_result",
          "data": {
            "text/plain": [
              "tensor([1, 2])"
            ]
          },
          "metadata": {},
          "execution_count": 70
        }
      ]
    },
    {
      "cell_type": "code",
      "source": [
        "MATRIX.shape"
      ],
      "metadata": {
        "colab": {
          "base_uri": "https://localhost:8080/"
        },
        "id": "fKqtQUw3p0Cu",
        "outputId": "ea89a2dd-5d27-44d6-fa6d-a67508782704"
      },
      "execution_count": 71,
      "outputs": [
        {
          "output_type": "execute_result",
          "data": {
            "text/plain": [
              "torch.Size([2, 2])"
            ]
          },
          "metadata": {},
          "execution_count": 71
        }
      ]
    },
    {
      "cell_type": "code",
      "source": [
        "# TENSOR\n",
        "TENSOR = torch.tensor([[[1,2,3], [4,5,6], [7,8,9]]])\n",
        "TENSOR"
      ],
      "metadata": {
        "colab": {
          "base_uri": "https://localhost:8080/"
        },
        "id": "QFo3mYG6v3Y8",
        "outputId": "2b2bdde1-78cb-4d61-8530-def93285687a"
      },
      "execution_count": 72,
      "outputs": [
        {
          "output_type": "execute_result",
          "data": {
            "text/plain": [
              "tensor([[[1, 2, 3],\n",
              "         [4, 5, 6],\n",
              "         [7, 8, 9]]])"
            ]
          },
          "metadata": {},
          "execution_count": 72
        }
      ]
    },
    {
      "cell_type": "code",
      "source": [
        "TENSOR.ndim"
      ],
      "metadata": {
        "colab": {
          "base_uri": "https://localhost:8080/"
        },
        "id": "loQ91s0Bv5QQ",
        "outputId": "7a43c6a2-4b9b-48a9-8f9f-34bca5c581c5"
      },
      "execution_count": 73,
      "outputs": [
        {
          "output_type": "execute_result",
          "data": {
            "text/plain": [
              "3"
            ]
          },
          "metadata": {},
          "execution_count": 73
        }
      ]
    },
    {
      "cell_type": "code",
      "source": [
        "TENSOR.shape"
      ],
      "metadata": {
        "colab": {
          "base_uri": "https://localhost:8080/"
        },
        "id": "pFI9XzgjwlQ2",
        "outputId": "47c628c4-2666-4dbd-e470-d7ac654cdcdf"
      },
      "execution_count": 74,
      "outputs": [
        {
          "output_type": "execute_result",
          "data": {
            "text/plain": [
              "torch.Size([1, 3, 3])"
            ]
          },
          "metadata": {},
          "execution_count": 74
        }
      ]
    },
    {
      "cell_type": "code",
      "source": [
        "TENSOR[0]"
      ],
      "metadata": {
        "colab": {
          "base_uri": "https://localhost:8080/"
        },
        "id": "n5_c3nGEwyo0",
        "outputId": "4d8ecb7f-d21e-4b49-cb63-d71e8206161c"
      },
      "execution_count": 75,
      "outputs": [
        {
          "output_type": "execute_result",
          "data": {
            "text/plain": [
              "tensor([[1, 2, 3],\n",
              "        [4, 5, 6],\n",
              "        [7, 8, 9]])"
            ]
          },
          "metadata": {},
          "execution_count": 75
        }
      ]
    },
    {
      "cell_type": "markdown",
      "source": [
        "### Random tensors\n",
        "The way neural networks works is they start with tensors full of random numbers and adjust those numbers to better represent the data\n",
        "\n",
        "`start with random numbers ==> look at data ==> update randomn umbers ==> look at data ==> update random numbers`"
      ],
      "metadata": {
        "id": "XyGPRcDU0zos"
      }
    },
    {
      "cell_type": "code",
      "source": [
        "# create a random tensor of size (3, 4)\n",
        "# docs here:https://pytorch.org/docs/stable/generated/torch.rand.html\n",
        "\n",
        "random_tensor = torch.rand(3, 4)\n",
        "random_tensor"
      ],
      "metadata": {
        "colab": {
          "base_uri": "https://localhost:8080/"
        },
        "id": "IYcwQHDG028B",
        "outputId": "fd97a8eb-e45a-4f29-d471-7978047c56f7"
      },
      "execution_count": 76,
      "outputs": [
        {
          "output_type": "execute_result",
          "data": {
            "text/plain": [
              "tensor([[0.6867, 0.3571, 0.0939, 0.6666],\n",
              "        [0.9985, 0.1619, 0.7652, 0.6303],\n",
              "        [0.5612, 0.8338, 0.5918, 0.7064]])"
            ]
          },
          "metadata": {},
          "execution_count": 76
        }
      ]
    },
    {
      "cell_type": "code",
      "source": [
        "random_tensor.ndim"
      ],
      "metadata": {
        "colab": {
          "base_uri": "https://localhost:8080/"
        },
        "id": "o07I58TN_Ti8",
        "outputId": "7eab10ce-f667-487e-9686-c0184dc987c6"
      },
      "execution_count": 77,
      "outputs": [
        {
          "output_type": "execute_result",
          "data": {
            "text/plain": [
              "2"
            ]
          },
          "metadata": {},
          "execution_count": 77
        }
      ]
    },
    {
      "cell_type": "code",
      "source": [
        "# create a random tensor with similar shape to an image tensor\n",
        "random_image_size_tensor = torch.rand(size=(224, 224, 3)) # (height, width, color_channels) ==> (red, green, blue)\n",
        "random_image_size_tensor"
      ],
      "metadata": {
        "colab": {
          "base_uri": "https://localhost:8080/"
        },
        "id": "4gBL3aoT_Tlv",
        "outputId": "ecd14a8d-4074-4a51-a2ee-d25a5b310803"
      },
      "execution_count": 78,
      "outputs": [
        {
          "output_type": "execute_result",
          "data": {
            "text/plain": [
              "tensor([[[0.5705, 0.2448, 0.3969],\n",
              "         [0.9724, 0.1045, 0.2689],\n",
              "         [0.6018, 0.9164, 0.8647],\n",
              "         ...,\n",
              "         [0.2217, 0.8135, 0.1329],\n",
              "         [0.5598, 0.3101, 0.9244],\n",
              "         [0.7234, 0.1736, 0.3637]],\n",
              "\n",
              "        [[0.6804, 0.8198, 0.8640],\n",
              "         [0.3550, 0.5964, 0.8520],\n",
              "         [0.1833, 0.2204, 0.8919],\n",
              "         ...,\n",
              "         [0.1617, 0.5875, 0.9753],\n",
              "         [0.1508, 0.7376, 0.6144],\n",
              "         [0.5906, 0.2620, 0.6441]],\n",
              "\n",
              "        [[0.7797, 0.4956, 0.4762],\n",
              "         [0.2485, 0.5815, 0.0970],\n",
              "         [0.7122, 0.2915, 0.6608],\n",
              "         ...,\n",
              "         [0.7275, 0.9964, 0.0403],\n",
              "         [0.5821, 0.8814, 0.1273],\n",
              "         [0.0959, 0.1444, 0.2352]],\n",
              "\n",
              "        ...,\n",
              "\n",
              "        [[0.3467, 0.8446, 0.3396],\n",
              "         [0.4709, 0.2587, 0.0398],\n",
              "         [0.1752, 0.7974, 0.5741],\n",
              "         ...,\n",
              "         [0.9116, 0.4097, 0.7399],\n",
              "         [0.2184, 0.6369, 0.0457],\n",
              "         [0.4508, 0.5703, 0.5675]],\n",
              "\n",
              "        [[0.3625, 0.0105, 0.4961],\n",
              "         [0.2648, 0.0238, 0.6392],\n",
              "         [0.7526, 0.3313, 0.1509],\n",
              "         ...,\n",
              "         [0.0489, 0.6090, 0.7682],\n",
              "         [0.6991, 0.6853, 0.1737],\n",
              "         [0.7361, 0.7556, 0.0392]],\n",
              "\n",
              "        [[0.6103, 0.3732, 0.9275],\n",
              "         [0.5798, 0.6846, 0.4603],\n",
              "         [0.8115, 0.7291, 0.5403],\n",
              "         ...,\n",
              "         [0.0595, 0.8119, 0.6586],\n",
              "         [0.3990, 0.6549, 0.2296],\n",
              "         [0.3554, 0.0853, 0.7951]]])"
            ]
          },
          "metadata": {},
          "execution_count": 78
        }
      ]
    },
    {
      "cell_type": "code",
      "source": [
        "random_image_size_tensor.shape, random_image_size_tensor.ndim"
      ],
      "metadata": {
        "colab": {
          "base_uri": "https://localhost:8080/"
        },
        "id": "Y_2Isb-g_Tx3",
        "outputId": "efc1a3aa-e6f6-48d7-8026-289b3a2769dc"
      },
      "execution_count": 79,
      "outputs": [
        {
          "output_type": "execute_result",
          "data": {
            "text/plain": [
              "(torch.Size([224, 224, 3]), 3)"
            ]
          },
          "metadata": {},
          "execution_count": 79
        }
      ]
    },
    {
      "cell_type": "markdown",
      "source": [
        "### Zeros and ones"
      ],
      "metadata": {
        "id": "N7abXv-9BYhU"
      }
    },
    {
      "cell_type": "code",
      "source": [
        "# creating a tensor of zeroes\n",
        "zero_tensor = torch.zeros(3, 4)\n",
        "zero_tensor"
      ],
      "metadata": {
        "colab": {
          "base_uri": "https://localhost:8080/"
        },
        "id": "dhvgltee_T2j",
        "outputId": "464dc56e-38f2-4de4-d28f-07b341ac4c9d"
      },
      "execution_count": 80,
      "outputs": [
        {
          "output_type": "execute_result",
          "data": {
            "text/plain": [
              "tensor([[0., 0., 0., 0.],\n",
              "        [0., 0., 0., 0.],\n",
              "        [0., 0., 0., 0.]])"
            ]
          },
          "metadata": {},
          "execution_count": 80
        }
      ]
    },
    {
      "cell_type": "code",
      "source": [
        "zero_tensor.shape, zero_tensor.ndim"
      ],
      "metadata": {
        "colab": {
          "base_uri": "https://localhost:8080/"
        },
        "id": "TRykGD_jBpoK",
        "outputId": "ba64b0c6-1888-4d3e-bb15-b83b6db86399"
      },
      "execution_count": 81,
      "outputs": [
        {
          "output_type": "execute_result",
          "data": {
            "text/plain": [
              "(torch.Size([3, 4]), 2)"
            ]
          },
          "metadata": {},
          "execution_count": 81
        }
      ]
    },
    {
      "cell_type": "code",
      "source": [
        "# create a tensor of ones\n",
        "ones_tensor = torch.ones(3, 4)\n",
        "ones_tensor"
      ],
      "metadata": {
        "colab": {
          "base_uri": "https://localhost:8080/"
        },
        "id": "zV27iotLBpqG",
        "outputId": "97191dc1-2046-49b1-ab00-752aea8150b6"
      },
      "execution_count": 82,
      "outputs": [
        {
          "output_type": "execute_result",
          "data": {
            "text/plain": [
              "tensor([[1., 1., 1., 1.],\n",
              "        [1., 1., 1., 1.],\n",
              "        [1., 1., 1., 1.]])"
            ]
          },
          "metadata": {},
          "execution_count": 82
        }
      ]
    },
    {
      "cell_type": "code",
      "source": [
        "ones_tensor.shape, ones_tensor.ndim"
      ],
      "metadata": {
        "colab": {
          "base_uri": "https://localhost:8080/"
        },
        "id": "IhhYgcLQBps6",
        "outputId": "5415c0e8-4958-4239-b45d-df2c78bcfe22"
      },
      "execution_count": 83,
      "outputs": [
        {
          "output_type": "execute_result",
          "data": {
            "text/plain": [
              "(torch.Size([3, 4]), 2)"
            ]
          },
          "metadata": {},
          "execution_count": 83
        }
      ]
    },
    {
      "cell_type": "code",
      "source": [],
      "metadata": {
        "id": "33_AV9F3CFpg"
      },
      "execution_count": 83,
      "outputs": []
    },
    {
      "cell_type": "code",
      "source": [],
      "metadata": {
        "id": "E1vpFBeKCFrS"
      },
      "execution_count": 83,
      "outputs": []
    },
    {
      "cell_type": "code",
      "source": [],
      "metadata": {
        "id": "LZtTcTbRCFuc"
      },
      "execution_count": 83,
      "outputs": []
    }
  ]
}